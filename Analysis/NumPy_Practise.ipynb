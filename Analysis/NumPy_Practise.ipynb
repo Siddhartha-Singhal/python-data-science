{
 "cells": [
  {
   "cell_type": "code",
   "execution_count": 15,
   "metadata": {},
   "outputs": [],
   "source": [
    "import numpy as np"
   ]
  },
  {
   "cell_type": "markdown",
   "metadata": {},
   "source": [
    "Write a NumPy program to create an array of 10 zeros."
   ]
  },
  {
   "cell_type": "code",
   "execution_count": 16,
   "metadata": {},
   "outputs": [
    {
     "data": {
      "text/plain": [
       "array([0, 0, 0, 0, 0, 0, 0, 0, 0, 0])"
      ]
     },
     "execution_count": 16,
     "metadata": {},
     "output_type": "execute_result"
    }
   ],
   "source": [
    "zero_arr = np.zeros(10, dtype=int)\n",
    "zero_arr"
   ]
  },
  {
   "cell_type": "markdown",
   "metadata": {},
   "source": [
    "Write a NumPy program to create an array of 10 ones."
   ]
  },
  {
   "cell_type": "code",
   "execution_count": 17,
   "metadata": {},
   "outputs": [
    {
     "data": {
      "text/plain": [
       "array([1, 1, 1, 1, 1, 1, 1, 1, 1, 1])"
      ]
     },
     "execution_count": 17,
     "metadata": {},
     "output_type": "execute_result"
    }
   ],
   "source": [
    "ones_arr = np.ones(10, dtype=int)\n",
    "ones_arr"
   ]
  },
  {
   "cell_type": "markdown",
   "metadata": {},
   "source": [
    "Write a NumPy program to create a 3x3 matrix with values ranging from 0 to 8."
   ]
  },
  {
   "cell_type": "code",
   "execution_count": 18,
   "metadata": {},
   "outputs": [
    {
     "data": {
      "text/plain": [
       "array([[0, 1, 2],\n",
       "       [3, 4, 5],\n",
       "       [6, 7, 8]])"
      ]
     },
     "execution_count": 18,
     "metadata": {},
     "output_type": "execute_result"
    }
   ],
   "source": [
    "matrix3 = np.arange(9).reshape((3,3))\n",
    "matrix3"
   ]
  },
  {
   "cell_type": "markdown",
   "metadata": {},
   "source": [
    "Write a NumPy program to reverse an array (first element becomes the last)."
   ]
  },
  {
   "cell_type": "code",
   "execution_count": 19,
   "metadata": {},
   "outputs": [
    {
     "name": "stdout",
     "output_type": "stream",
     "text": [
      "[1, 2, 3, 4, 5, 6]\n",
      "[6 5 4 3 2 1]\n",
      "[6, 5, 4, 3, 2, 1]\n"
     ]
    }
   ],
   "source": [
    "arr = [1, 2, 3, 4, 5, 6]\n",
    "print(arr)\n",
    "# 1st method\n",
    "print(np.flip(arr))\n",
    "# 2nd method\n",
    "print(arr[::-1])"
   ]
  },
  {
   "cell_type": "markdown",
   "metadata": {},
   "source": [
    "Write a NumPy program to extract all odd numbers from an array."
   ]
  },
  {
   "cell_type": "code",
   "execution_count": 20,
   "metadata": {},
   "outputs": [
    {
     "data": {
      "text/plain": [
       "[1, 3, 5]"
      ]
     },
     "execution_count": 20,
     "metadata": {},
     "output_type": "execute_result"
    }
   ],
   "source": [
    "odd_arr = [arr[i] for i in range(len(arr)) if arr[i] % 2 == 1]\n",
    "odd_arr"
   ]
  },
  {
   "cell_type": "markdown",
   "metadata": {},
   "source": [
    "Write a NumPy program to compute the sum of all elements, mean, and standard deviation of a given array."
   ]
  },
  {
   "cell_type": "code",
   "execution_count": 21,
   "metadata": {},
   "outputs": [
    {
     "name": "stdout",
     "output_type": "stream",
     "text": [
      "21\n",
      "3.5\n",
      "1.707825127659933\n"
     ]
    }
   ],
   "source": [
    "print(np.sum(arr))\n",
    "print(np.mean(arr))\n",
    "print(np.std(arr))"
   ]
  },
  {
   "cell_type": "markdown",
   "metadata": {},
   "source": [
    "Write a NumPy program to create a 5x5 matrix with random values and find the minimum and maximum values."
   ]
  },
  {
   "cell_type": "code",
   "execution_count": 22,
   "metadata": {},
   "outputs": [
    {
     "name": "stdout",
     "output_type": "stream",
     "text": [
      "[[ 4 12 11 12 45]\n",
      " [29 16 58 67 37]\n",
      " [84 90 27 82 64]\n",
      " [ 9 68 18 47 76]\n",
      " [20 51  3 18 18]]\n",
      "Max value: 90\n",
      "Min value: 3\n"
     ]
    }
   ],
   "source": [
    "matrix5 = np.random.randint(1, 100, (5,5))\n",
    "print(matrix5)\n",
    "print(f\"Max value: {matrix5.max()}\")\n",
    "print(f\"Min value: {matrix5.min()}\")"
   ]
  },
  {
   "cell_type": "markdown",
   "metadata": {},
   "source": [
    "Write a NumPy program to create a 2D array with 1 on the border and 0 inside."
   ]
  },
  {
   "cell_type": "code",
   "execution_count": 23,
   "metadata": {},
   "outputs": [
    {
     "name": "stdout",
     "output_type": "stream",
     "text": [
      "[[1 1 1 1 1]\n",
      " [1 1 1 1 1]\n",
      " [1 1 1 1 1]\n",
      " [1 1 1 1 1]\n",
      " [1 1 1 1 1]]\n",
      "\n",
      "[[1 1 1 1 1]\n",
      " [1 0 0 0 1]\n",
      " [1 0 0 0 1]\n",
      " [1 0 0 0 1]\n",
      " [1 1 1 1 1]]\n"
     ]
    }
   ],
   "source": [
    "arr2D = np.ones([5,5], dtype=int)\n",
    "print(arr2D)\n",
    "print()\n",
    "arr2D[1:-1, 1:-1] = 0\n",
    "print(arr2D)"
   ]
  },
  {
   "cell_type": "markdown",
   "metadata": {},
   "source": [
    "Write a NumPy program to multiply two given matrices."
   ]
  },
  {
   "cell_type": "code",
   "execution_count": 24,
   "metadata": {},
   "outputs": [
    {
     "name": "stdout",
     "output_type": "stream",
     "text": [
      "[[92 89 39 97  4]\n",
      " [21 27 95 52 44]\n",
      " [65 21 65 57 87]\n",
      " [21 61 92  9 95]\n",
      " [28 11 31 76 64]]\n"
     ]
    }
   ],
   "source": [
    "mat5 = np.random.randint(1, 100, (5,5))\n",
    "print(mat5)"
   ]
  },
  {
   "cell_type": "code",
   "execution_count": 25,
   "metadata": {},
   "outputs": [
    {
     "name": "stdout",
     "output_type": "stream",
     "text": [
      "[[ 368 1068  429 1164  180]\n",
      " [ 609  432 5510 3484 1628]\n",
      " [5460 1890 1755 4674 5568]\n",
      " [ 189 4148 1656  423 7220]\n",
      " [ 560  561   93 1368 1152]]\n"
     ]
    }
   ],
   "source": [
    "print(mat5 * matrix5)"
   ]
  },
  {
   "cell_type": "markdown",
   "metadata": {},
   "source": [
    "Write a NumPy program to find the unique elements of an array."
   ]
  },
  {
   "cell_type": "code",
   "execution_count": 26,
   "metadata": {},
   "outputs": [
    {
     "name": "stdout",
     "output_type": "stream",
     "text": [
      "[[1 2 3]\n",
      " [1 2 4]]\n",
      "\n",
      "Uniique elements are: [1 2 3 4]\n"
     ]
    }
   ],
   "source": [
    "arr = np.array([[1, 2, 3], [1, 2, 4]])\n",
    "print(arr)\n",
    "print()\n",
    "print(f\"Uniique elements are: {np.unique(arr)}\")"
   ]
  },
  {
   "cell_type": "markdown",
   "metadata": {},
   "source": [
    "Write a NumPy program to extract the elements in the odd-numbered columns of a 2D array."
   ]
  },
  {
   "cell_type": "code",
   "execution_count": 30,
   "metadata": {},
   "outputs": [
    {
     "name": "stdout",
     "output_type": "stream",
     "text": [
      "[[1 2 3 4]\n",
      " [5 6 7 8]]\n",
      "2 4 6 8 "
     ]
    }
   ],
   "source": [
    "mat2 = np.array([[1, 2, 3, 4], [5, 6, 7, 8]])\n",
    "print(mat2)\n",
    "for i in range(len(mat2)):\n",
    "    for j in range(len(mat2[i])):\n",
    "        if j % 2 != 0:\n",
    "            print(mat2[i][j], end=\" \")"
   ]
  },
  {
   "cell_type": "markdown",
   "metadata": {},
   "source": [
    "Write a NumPy program to extract the elements in the even-numbered rows of a 2D array."
   ]
  },
  {
   "cell_type": "code",
   "execution_count": 31,
   "metadata": {},
   "outputs": [
    {
     "name": "stdout",
     "output_type": "stream",
     "text": [
      "[[1 2 3 4]\n",
      " [5 6 7 8]]\n",
      "1 3 5 7 "
     ]
    }
   ],
   "source": [
    "matrix2 = np.array([[1, 2, 3, 4], [5, 6, 7, 8]])\n",
    "print(matrix2)\n",
    "for i in range(len(matrix2)):\n",
    "    for j in range(len(matrix2[i])):\n",
    "        if j % 2 == 0:\n",
    "            print(matrix2[i][j], end=\" \")"
   ]
  },
  {
   "cell_type": "markdown",
   "metadata": {},
   "source": [
    "Write a NumPy program to extract a subarray from a given array. The subarray should include the first 3 rows and the columns from index 1 to 4 (inclusive)."
   ]
  },
  {
   "cell_type": "code",
   "execution_count": 33,
   "metadata": {},
   "outputs": [
    {
     "name": "stdout",
     "output_type": "stream",
     "text": [
      "[[43  7 47 12 42 10]\n",
      " [29 46  1 48 40 30]\n",
      " [10 15 43 31 26  4]\n",
      " [26 47 45 38 48  4]\n",
      " [ 9 41 45 35 47 33]\n",
      " [13  1 34 27 23  5]]\n",
      "\n",
      "[[ 7 47 12 42]\n",
      " [46  1 48 40]\n",
      " [15 43 31 26]]\n"
     ]
    }
   ],
   "source": [
    "matrix6 = np.random.randint(1, 50, (6,6))\n",
    "print(matrix6)\n",
    "print()\n",
    "sub_matrix6 = matrix6[:3, 1:5]\n",
    "print(sub_matrix6)"
   ]
  },
  {
   "cell_type": "markdown",
   "metadata": {},
   "source": [
    "Write a NumPy program to reverse the order of elements in each column of a 2D array."
   ]
  },
  {
   "cell_type": "code",
   "execution_count": 34,
   "metadata": {},
   "outputs": [
    {
     "name": "stdout",
     "output_type": "stream",
     "text": [
      "[[13 16  6 13 18]\n",
      " [14 18 10 13 12]\n",
      " [17  6 15 14  6]]\n",
      "\n",
      "[[18 13  6 16 13]\n",
      " [12 13 10 18 14]\n",
      " [ 6 14 15  6 17]]\n"
     ]
    }
   ],
   "source": [
    "mat2 = np.random.randint(1, 20, (3, 5))\n",
    "print(mat2)\n",
    "print()\n",
    "for i in range(len(mat2)):\n",
    "    mat2[i] = mat2[i][::-1]\n",
    "print(mat2)"
   ]
  },
  {
   "cell_type": "markdown",
   "metadata": {},
   "source": [
    "Write a NumPy program to create a diagonal matrix from a given 1D array. The elements below the diagonal should be zero, and the elements above the diagonal should be squared."
   ]
  },
  {
   "cell_type": "code",
   "execution_count": 38,
   "metadata": {},
   "outputs": [
    {
     "name": "stdout",
     "output_type": "stream",
     "text": [
      "[[1 1 1 1]\n",
      " [0 2 4 4]\n",
      " [0 0 3 9]\n",
      " [0 0 0 4]]\n"
     ]
    }
   ],
   "source": [
    "arr = [1, 2, 3, 4]\n",
    "matrix4 = np.zeros((4,4), dtype=int)\n",
    "for i in range(len(matrix4)):\n",
    "    for j in range(len(matrix4[i])):\n",
    "        if i == j:\n",
    "            matrix4[i][j] = arr[i]\n",
    "        if j > i:\n",
    "            matrix4[i][j] = arr[i] ** 2\n",
    "print(matrix4)"
   ]
  }
 ],
 "metadata": {
  "kernelspec": {
   "display_name": "base",
   "language": "python",
   "name": "python3"
  },
  "language_info": {
   "codemirror_mode": {
    "name": "ipython",
    "version": 3
   },
   "file_extension": ".py",
   "mimetype": "text/x-python",
   "name": "python",
   "nbconvert_exporter": "python",
   "pygments_lexer": "ipython3",
   "version": "3.12.7"
  }
 },
 "nbformat": 4,
 "nbformat_minor": 2
}
