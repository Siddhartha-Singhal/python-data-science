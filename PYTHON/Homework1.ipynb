{
 "cells": [
  {
   "cell_type": "markdown",
   "metadata": {},
   "source": [
    "To check whether a number is positive or not"
   ]
  },
  {
   "cell_type": "code",
   "execution_count": 2,
   "metadata": {},
   "outputs": [
    {
     "name": "stdout",
     "output_type": "stream",
     "text": [
      "Number is negative\n"
     ]
    }
   ],
   "source": [
    "num = int(input(\"Enter a number:\"))\n",
    "if num > 0:\n",
    "    print(\"Number is positive\")\n",
    "else:\n",
    "    print(\"Number is negative\")"
   ]
  },
  {
   "cell_type": "markdown",
   "metadata": {},
   "source": [
    "To check whether a number is even or odd"
   ]
  },
  {
   "cell_type": "code",
   "execution_count": 3,
   "metadata": {},
   "outputs": [
    {
     "name": "stdout",
     "output_type": "stream",
     "text": [
      "Number is odd\n"
     ]
    }
   ],
   "source": [
    "num = int(input(\"Enter a number:\"))\n",
    "if num % 2 == 0:\n",
    "    print(\"Number is even\")\n",
    "else:\n",
    "    print(\"Number is odd\")"
   ]
  },
  {
   "cell_type": "markdown",
   "metadata": {},
   "source": [
    "To check whether 2 line segments are equal or not"
   ]
  },
  {
   "cell_type": "code",
   "execution_count": 5,
   "metadata": {},
   "outputs": [
    {
     "name": "stdout",
     "output_type": "stream",
     "text": [
      "Both line segments are of same length\n"
     ]
    }
   ],
   "source": [
    "l1 = int(input(\"Enter length of first line segment\"))\n",
    "l2 = int(input(\"Enter length of second line segment\"))\n",
    "if l1 == l2:\n",
    "    print(\"Both line segments are of same length\")\n",
    "else:\n",
    "    print(\"Both line segments are of same different length\")"
   ]
  },
  {
   "cell_type": "markdown",
   "metadata": {},
   "source": [
    "To check whether a character entered by a user is a vowel or not"
   ]
  },
  {
   "cell_type": "code",
   "execution_count": 7,
   "metadata": {},
   "outputs": [
    {
     "name": "stdout",
     "output_type": "stream",
     "text": [
      "Character is consonant\n"
     ]
    }
   ],
   "source": [
    "char = input(\"Enter a character:\")\n",
    "if char.lower() == 'a' or char.lower() == 'e' or char.lower() == 'i' or char.lower() == 'o' or char.lower() == 'u':\n",
    "    print(\"Character is vowel\")\n",
    "else:\n",
    "    print(\"Character is consonant\")"
   ]
  },
  {
   "cell_type": "markdown",
   "metadata": {},
   "source": [
    "Take a basic salary from user where TDA is 10% amd HRA is 5%. Calculate the net salary of an employee"
   ]
  },
  {
   "cell_type": "code",
   "execution_count": 9,
   "metadata": {},
   "outputs": [
    {
     "name": "stdout",
     "output_type": "stream",
     "text": [
      "Net salary: 85000.0\n"
     ]
    }
   ],
   "source": [
    "base_pay = int(input(\"Enter your base pay:\"))\n",
    "tda = base_pay * 0.1\n",
    "hra = base_pay * 0.05\n",
    "net = base_pay - (tda + hra)\n",
    "print(f\"Net salary: {net}\")"
   ]
  },
  {
   "cell_type": "markdown",
   "metadata": {},
   "source": [
    "Calculate area of a circle"
   ]
  },
  {
   "cell_type": "code",
   "execution_count": 10,
   "metadata": {},
   "outputs": [
    {
     "name": "stdout",
     "output_type": "stream",
     "text": [
      "Area of circle: 314.0\n"
     ]
    }
   ],
   "source": [
    "rad = int(input(\"Enter radius of circle:\"))\n",
    "print(f\"Area of circle: {3.14*rad*rad}\")"
   ]
  },
  {
   "cell_type": "markdown",
   "metadata": {},
   "source": [
    "Check whether a number is prime or not"
   ]
  },
  {
   "cell_type": "code",
   "execution_count": 13,
   "metadata": {},
   "outputs": [
    {
     "name": "stdout",
     "output_type": "stream",
     "text": [
      "Not a prime number\n"
     ]
    }
   ],
   "source": [
    "num = int(input(\"Enter the number:\"))\n",
    "check = True\n",
    "for i in range(2, int(num/2) + 1):\n",
    "    if num % i == 0:\n",
    "        check = False\n",
    "if check == True:\n",
    "    print(\"Prime number\")\n",
    "else:\n",
    "    print(\"Not a prime number\")"
   ]
  },
  {
   "cell_type": "markdown",
   "metadata": {},
   "source": [
    "Check whether a number is palindrome"
   ]
  },
  {
   "cell_type": "code",
   "execution_count": 17,
   "metadata": {},
   "outputs": [
    {
     "name": "stdout",
     "output_type": "stream",
     "text": [
      "Palindrome number\n"
     ]
    }
   ],
   "source": [
    "num = int(input(\"Enter a number:\"))\n",
    "temp = num\n",
    "sum = 0\n",
    "while temp > 0:\n",
    "    t = temp % 10\n",
    "    sum = (sum * 10) + t\n",
    "    temp = temp // 10\n",
    "if num == sum:\n",
    "    print(\"Palindrome number\")\n",
    "else:\n",
    "    print(\"Not palindrome number\")"
   ]
  },
  {
   "cell_type": "markdown",
   "metadata": {},
   "source": [
    "Check whether a number is armstrong"
   ]
  },
  {
   "cell_type": "code",
   "execution_count": 19,
   "metadata": {},
   "outputs": [
    {
     "name": "stdout",
     "output_type": "stream",
     "text": [
      "Not Armstrong number\n"
     ]
    }
   ],
   "source": [
    "num = int(input(\"Enter a number:\"))\n",
    "length = len(str(num))\n",
    "sum = 0\n",
    "temp = num\n",
    "while temp > 0:\n",
    "    t = temp % 10\n",
    "    sum =  sum + t**length\n",
    "    temp = temp // 10\n",
    "if num == sum :\n",
    "    print(\"Armstrong number\")\n",
    "else:\n",
    "    print(\"Not Armstrong number\")"
   ]
  },
  {
   "cell_type": "markdown",
   "metadata": {},
   "source": [
    "Check whether a triangle is scalene, isoceles or equilateral"
   ]
  },
  {
   "cell_type": "code",
   "execution_count": 22,
   "metadata": {},
   "outputs": [
    {
     "name": "stdout",
     "output_type": "stream",
     "text": [
      "Equilateral triangle\n"
     ]
    }
   ],
   "source": [
    "l1 = int(input(\"Enter length of first side of triangle:\"))\n",
    "l2 = int(input(\"Enter length of second side of triangle:\"))\n",
    "l3 = int(input(\"Enter length of third side of triangle:\"))\n",
    "if l1 == l2 == l3:\n",
    "    print(\"Equilateral triangle\")\n",
    "elif l1 == l2 or l1 == l3 or l2 == l3:\n",
    "    print(\"Isoceles triangle\")\n",
    "else:\n",
    "    print(\"Scalene triangle\")\n"
   ]
  }
 ],
 "metadata": {
  "kernelspec": {
   "display_name": "base",
   "language": "python",
   "name": "python3"
  },
  "language_info": {
   "codemirror_mode": {
    "name": "ipython",
    "version": 3
   },
   "file_extension": ".py",
   "mimetype": "text/x-python",
   "name": "python",
   "nbconvert_exporter": "python",
   "pygments_lexer": "ipython3",
   "version": "3.12.7"
  }
 },
 "nbformat": 4,
 "nbformat_minor": 2
}
