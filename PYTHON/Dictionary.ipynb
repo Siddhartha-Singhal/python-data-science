{
 "cells": [
  {
   "cell_type": "code",
   "execution_count": 2,
   "metadata": {},
   "outputs": [
    {
     "name": "stdout",
     "output_type": "stream",
     "text": [
      "Kashish 24\n",
      "Manya 25\n",
      "Aadya 21\n",
      "Krishna 22\n",
      "Sameer 28\n",
      "\n",
      "Kashish 24\n",
      "Manya 25\n",
      "Aadya 21\n",
      "Krishna 22\n",
      "Sameer 28\n",
      "\n",
      "24\n",
      "25\n",
      "21\n",
      "22\n",
      "28\n",
      "dict_keys(['Kashish', 'Manya', 'Aadya', 'Krishna', 'Sameer'])\n",
      "dict_values([24, 25, 21, 22, 28])\n",
      "dict_items([('Kashish', 24), ('Manya', 25), ('Aadya', 21), ('Krishna', 22), ('Sameer', 28)])\n"
     ]
    }
   ],
   "source": [
    "student = {\"Kashish\": 24, \"Manya\": 25, \"Aadya\": 21, \"Krishna\": 22, \"Sameer\": 28}\n",
    "\n",
    "for key, value in student.items():\n",
    "    print(key, value)\n",
    "print()\n",
    "\n",
    "for key in student.keys():\n",
    "    print(key, student[key])\n",
    "print()\n",
    "\n",
    "for value in student.values():\n",
    "    print(value)\n",
    "\n",
    "print(student.keys())\n",
    "print(student.values())\n",
    "print(student.items())"
   ]
  },
  {
   "cell_type": "markdown",
   "metadata": {},
   "source": [
    "Shortcut to search an element where for loop runs internally"
   ]
  },
  {
   "cell_type": "code",
   "execution_count": 3,
   "metadata": {},
   "outputs": [
    {
     "name": "stdout",
     "output_type": "stream",
     "text": [
      "Present\n"
     ]
    }
   ],
   "source": [
    "target = \"Manya\"\n",
    "if target in student:\n",
    "    print(\"Present\")\n",
    "else:\n",
    "    print(\"Absent\")"
   ]
  },
  {
   "cell_type": "code",
   "execution_count": 4,
   "metadata": {},
   "outputs": [
    {
     "name": "stdout",
     "output_type": "stream",
     "text": [
      "{'name': 'Siddhartha', 'age': 25, 'course': 'python', 'marks': 78}\n"
     ]
    }
   ],
   "source": [
    "std = {\n",
    "    \"name\": \"Siddhartha\",\n",
    "    \"age\": 25,\n",
    "    \"course\": \"python\",\n",
    "    \"marks\": 78\n",
    "}\n",
    "\n",
    "print(std)"
   ]
  },
  {
   "cell_type": "code",
   "execution_count": 5,
   "metadata": {},
   "outputs": [
    {
     "name": "stdout",
     "output_type": "stream",
     "text": [
      "{'name': 'sid', 'age': 24, 'course': 'python', 'marks': 78}\n"
     ]
    }
   ],
   "source": [
    "info = dict(name = \"sid\", age = 24, course = \"python\", marks = 78)\n",
    "print(info)"
   ]
  },
  {
   "cell_type": "code",
   "execution_count": 6,
   "metadata": {},
   "outputs": [
    {
     "name": "stdout",
     "output_type": "stream",
     "text": [
      "{'name': 'sid', 'age': 24, 'course': 'python', 'marks': 78}\n"
     ]
    }
   ],
   "source": [
    "info = dict(name = input(\"Enteer your name:\"), age = 24, course = \"python\", marks = 78)\n",
    "print(info)"
   ]
  },
  {
   "cell_type": "code",
   "execution_count": 24,
   "metadata": {},
   "outputs": [
    {
     "name": "stdout",
     "output_type": "stream",
     "text": [
      "{'lko': [23, 24, 52], 'kn': [35, 54, 74], 'dl': 78}\n"
     ]
    }
   ],
   "source": [
    "temp = {\n",
    "    'lko': [23,24,52],\n",
    "    'kn': [35, 54, 74],\n",
    "    'dl': int(input())\n",
    "}\n",
    "print(temp)"
   ]
  },
  {
   "cell_type": "code",
   "execution_count": 8,
   "metadata": {},
   "outputs": [
    {
     "data": {
      "text/plain": [
       "[23, 24, 52]"
      ]
     },
     "execution_count": 8,
     "metadata": {},
     "output_type": "execute_result"
    }
   ],
   "source": [
    "temp['lko']"
   ]
  },
  {
   "cell_type": "code",
   "execution_count": 9,
   "metadata": {},
   "outputs": [
    {
     "data": {
      "text/plain": [
       "[23, 24, 52]"
      ]
     },
     "execution_count": 9,
     "metadata": {},
     "output_type": "execute_result"
    }
   ],
   "source": [
    "temp.get('lko')"
   ]
  },
  {
   "cell_type": "code",
   "execution_count": 10,
   "metadata": {},
   "outputs": [
    {
     "data": {
      "text/plain": [
       "dict_keys(['lko', 'kn', 'dl'])"
      ]
     },
     "execution_count": 10,
     "metadata": {},
     "output_type": "execute_result"
    }
   ],
   "source": [
    "temp.keys()"
   ]
  },
  {
   "cell_type": "code",
   "execution_count": 11,
   "metadata": {},
   "outputs": [
    {
     "data": {
      "text/plain": [
       "dict_values([[23, 24, 52], [35, 54, 74], 23])"
      ]
     },
     "execution_count": 11,
     "metadata": {},
     "output_type": "execute_result"
    }
   ],
   "source": [
    "temp.values()"
   ]
  },
  {
   "cell_type": "code",
   "execution_count": 12,
   "metadata": {},
   "outputs": [
    {
     "data": {
      "text/plain": [
       "dict_items([('lko', [23, 24, 52]), ('kn', [35, 54, 74]), ('dl', 23)])"
      ]
     },
     "execution_count": 12,
     "metadata": {},
     "output_type": "execute_result"
    }
   ],
   "source": [
    "temp.items()"
   ]
  },
  {
   "cell_type": "code",
   "execution_count": 13,
   "metadata": {},
   "outputs": [
    {
     "name": "stdout",
     "output_type": "stream",
     "text": [
      "{'name': 'Siddhartha', 'age': 25, 'course': 'python', 'marks': 78, 'year': 56}\n"
     ]
    }
   ],
   "source": [
    "std['year'] = 56\n",
    "print(std)"
   ]
  },
  {
   "cell_type": "code",
   "execution_count": 14,
   "metadata": {},
   "outputs": [
    {
     "name": "stdout",
     "output_type": "stream",
     "text": [
      "Siddhartha\n",
      "25\n",
      "python\n",
      "78\n",
      "56\n"
     ]
    }
   ],
   "source": [
    "for v in  std.values():\n",
    "    print(v)"
   ]
  },
  {
   "cell_type": "code",
   "execution_count": 15,
   "metadata": {},
   "outputs": [
    {
     "name": "stdout",
     "output_type": "stream",
     "text": [
      "name : Siddhartha\n",
      "age : 25\n",
      "course : python\n",
      "marks : 78\n",
      "year : 56\n"
     ]
    }
   ],
   "source": [
    "for k, v in std.items():\n",
    "    print(f\"{k} : {v}\")"
   ]
  },
  {
   "cell_type": "code",
   "execution_count": 16,
   "metadata": {},
   "outputs": [
    {
     "name": "stdout",
     "output_type": "stream",
     "text": [
      "{'emp001': {'name': 'Rahul', 'age': 25, 'dept': 'it', 'salary': 26000}, 'emp002': {'name': 'Rahi', 'age': 24, 'dept': 'humanity', 'salary': 260000}, 'emp003': {'name': 'Rhi', 'age': 14, 'dept': 'finance', 'salary': 2600}}\n"
     ]
    }
   ],
   "source": [
    "company = {\n",
    "    'emp001' : {\n",
    "        'name' : 'Rahul',\n",
    "        'age' : 25,\n",
    "        'dept': 'it',\n",
    "        'salary': 26000\n",
    "    },\n",
    "    'emp002' : {\n",
    "        'name' : 'Rahi',\n",
    "        'age' : 24,\n",
    "        'dept': 'humanity',\n",
    "        'salary': 260000\n",
    "    },\n",
    "    'emp003' : {\n",
    "        'name' : 'Rhi',\n",
    "        'age' : 14,\n",
    "        'dept': 'finance',\n",
    "        'salary': 2600\n",
    "    }\n",
    "}\n",
    "print(company)"
   ]
  },
  {
   "cell_type": "code",
   "execution_count": 17,
   "metadata": {},
   "outputs": [],
   "source": [
    "from pprint import pprint\n"
   ]
  },
  {
   "cell_type": "code",
   "execution_count": 18,
   "metadata": {},
   "outputs": [
    {
     "name": "stdout",
     "output_type": "stream",
     "text": [
      "{'emp001': {'age': 25, 'dept': 'it', 'name': 'Rahul', 'salary': 26000},\n",
      " 'emp002': {'age': 24, 'dept': 'humanity', 'name': 'Rahi', 'salary': 260000},\n",
      " 'emp003': {'age': 14, 'dept': 'finance', 'name': 'Rhi', 'salary': 2600}}\n"
     ]
    }
   ],
   "source": [
    "pprint(company)"
   ]
  },
  {
   "cell_type": "code",
   "execution_count": 19,
   "metadata": {},
   "outputs": [
    {
     "name": "stdout",
     "output_type": "stream",
     "text": [
      "humanity\n"
     ]
    }
   ],
   "source": [
    "print(company[\"emp002\"][\"dept\"])"
   ]
  },
  {
   "cell_type": "code",
   "execution_count": 20,
   "metadata": {},
   "outputs": [
    {
     "name": "stdout",
     "output_type": "stream",
     "text": [
      "24\n"
     ]
    }
   ],
   "source": [
    "print(temp['lko'][1])"
   ]
  },
  {
   "cell_type": "code",
   "execution_count": 21,
   "metadata": {},
   "outputs": [
    {
     "name": "stdout",
     "output_type": "stream",
     "text": [
      "33.0\n"
     ]
    }
   ],
   "source": [
    "sum = 0\n",
    "for i in range(3):\n",
    "    sum += temp['lko'][i]\n",
    "avg = sum / 3\n",
    "print(avg)"
   ]
  },
  {
   "cell_type": "code",
   "execution_count": 25,
   "metadata": {},
   "outputs": [
    {
     "ename": "TypeError",
     "evalue": "'int' object is not callable",
     "output_type": "error",
     "traceback": [
      "\u001b[1;31m---------------------------------------------------------------------------\u001b[0m",
      "\u001b[1;31mTypeError\u001b[0m                                 Traceback (most recent call last)",
      "Cell \u001b[1;32mIn[25], line 1\u001b[0m\n\u001b[1;32m----> 1\u001b[0m \u001b[38;5;28mprint\u001b[39m(\u001b[38;5;28;43msum\u001b[39;49m\u001b[43m(\u001b[49m\u001b[43mtemp\u001b[49m\u001b[43m[\u001b[49m\u001b[38;5;124;43m'\u001b[39;49m\u001b[38;5;124;43mlko\u001b[39;49m\u001b[38;5;124;43m'\u001b[39;49m\u001b[43m]\u001b[49m\u001b[43m)\u001b[49m \u001b[38;5;241m/\u001b[39m \u001b[38;5;28mlen\u001b[39m(temp[\u001b[38;5;124m'\u001b[39m\u001b[38;5;124mlko\u001b[39m\u001b[38;5;124m'\u001b[39m]))\n",
      "\u001b[1;31mTypeError\u001b[0m: 'int' object is not callable"
     ]
    }
   ],
   "source": [
    "print(sum(temp['lko']) / len(temp['lko']))"
   ]
  },
  {
   "cell_type": "code",
   "execution_count": null,
   "metadata": {},
   "outputs": [],
   "source": []
  },
  {
   "cell_type": "code",
   "execution_count": null,
   "metadata": {},
   "outputs": [],
   "source": []
  }
 ],
 "metadata": {
  "kernelspec": {
   "display_name": "base",
   "language": "python",
   "name": "python3"
  },
  "language_info": {
   "codemirror_mode": {
    "name": "ipython",
    "version": 3
   },
   "file_extension": ".py",
   "mimetype": "text/x-python",
   "name": "python",
   "nbconvert_exporter": "python",
   "pygments_lexer": "ipython3",
   "version": "3.12.7"
  }
 },
 "nbformat": 4,
 "nbformat_minor": 2
}
