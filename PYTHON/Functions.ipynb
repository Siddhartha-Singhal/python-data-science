{
 "cells": [
  {
   "cell_type": "markdown",
   "metadata": {},
   "source": [
    "Use multiple inputs in function definition"
   ]
  },
  {
   "cell_type": "code",
   "execution_count": 1,
   "metadata": {},
   "outputs": [
    {
     "name": "stdout",
     "output_type": "stream",
     "text": [
      "10\n"
     ]
    }
   ],
   "source": [
    "def sum(*num):\n",
    "    sum = 0\n",
    "    for n in num:\n",
    "        sum += n\n",
    "    print(sum)\n",
    "\n",
    "sum(1,2,3,4)"
   ]
  },
  {
   "cell_type": "markdown",
   "metadata": {},
   "source": [
    "Factorial using recursion"
   ]
  },
  {
   "cell_type": "code",
   "execution_count": null,
   "metadata": {},
   "outputs": [
    {
     "name": "stdout",
     "output_type": "stream",
     "text": [
      "120\n"
     ]
    }
   ],
   "source": [
    "def factorial(n):\n",
    "    if n == 1 or n == 0:\n",
    "        return 1\n",
    "    return n * factorial(n-1)\n",
    "\n",
    "fact = factorial(5)\n",
    "print(fact)"
   ]
  },
  {
   "cell_type": "markdown",
   "metadata": {},
   "source": [
    "Nth Fibonacci series using recursion"
   ]
  },
  {
   "cell_type": "code",
   "execution_count": 1,
   "metadata": {},
   "outputs": [
    {
     "name": "stdout",
     "output_type": "stream",
     "text": [
      "2\n"
     ]
    }
   ],
   "source": [
    "def fib(n):\n",
    "    if n == 1:\n",
    "        return 0\n",
    "    if n == 2:\n",
    "        return 1\n",
    "    return fib(n-1) + fib(n-2)\n",
    "\n",
    "n = int(input(\"Enter num:\"))\n",
    "print(fib(n))"
   ]
  },
  {
   "cell_type": "markdown",
   "metadata": {},
   "source": [
    "Fibonacci series using recursion"
   ]
  },
  {
   "cell_type": "code",
   "execution_count": null,
   "metadata": {},
   "outputs": [],
   "source": [
    "def fib(a, b, n, count):\n",
    "    "
   ]
  },
  {
   "cell_type": "markdown",
   "metadata": {},
   "source": [
    "Parametrized function"
   ]
  },
  {
   "cell_type": "code",
   "execution_count": 2,
   "metadata": {},
   "outputs": [
    {
     "name": "stdout",
     "output_type": "stream",
     "text": [
      "46\n"
     ]
    }
   ],
   "source": [
    "def sum(a, b):\n",
    "    return a + b\n",
    "\n",
    "sum = sum(12, 34)\n",
    "print(sum)"
   ]
  },
  {
   "cell_type": "markdown",
   "metadata": {},
   "source": [
    "Return and Non-Return Function\n"
   ]
  },
  {
   "cell_type": "code",
   "execution_count": null,
   "metadata": {},
   "outputs": [
    {
     "name": "stdout",
     "output_type": "stream",
     "text": [
      "60\n"
     ]
    }
   ],
   "source": [
    "def add(x,y,z):\n",
    "    return x+y+z\n",
    "\n",
    "x = add(10,20,30)\n",
    "print(x)"
   ]
  },
  {
   "cell_type": "code",
   "execution_count": 4,
   "metadata": {},
   "outputs": [
    {
     "name": "stdout",
     "output_type": "stream",
     "text": [
      "60\n",
      "None\n"
     ]
    }
   ],
   "source": [
    "def add(x,y,z):\n",
    "    print(x+y+z)\n",
    "\n",
    "x = add(10,20,30)\n",
    "print(x)"
   ]
  },
  {
   "cell_type": "markdown",
   "metadata": {},
   "source": [
    "Default Parameterized Function"
   ]
  },
  {
   "cell_type": "code",
   "execution_count": 10,
   "metadata": {},
   "outputs": [],
   "source": [
    "def my_country(country = \"India\"):\n",
    " print(\"I am from \" + country)"
   ]
  },
  {
   "cell_type": "code",
   "execution_count": 11,
   "metadata": {},
   "outputs": [
    {
     "name": "stdout",
     "output_type": "stream",
     "text": [
      "I am from USA\n",
      "I am from UK\n",
      "I am from India\n",
      "I am from Australia\n"
     ]
    }
   ],
   "source": [
    "my_country(\"USA\")\n",
    "my_country(\"UK\")\n",
    "my_country ()\n",
    "my_country(\"Australia\")\n"
   ]
  },
  {
   "cell_type": "code",
   "execution_count": 12,
   "metadata": {},
   "outputs": [
    {
     "name": "stdout",
     "output_type": "stream",
     "text": [
      "apple\n",
      "banana\n",
      "cherry\n"
     ]
    }
   ],
   "source": [
    "def my_food(food):\n",
    "    for x in food:\n",
    "        print(x)\n",
    "fruits = [\"apple\" , \"banana\", \"cherry\"]\n",
    "my_food(fruits)"
   ]
  },
  {
   "cell_type": "markdown",
   "metadata": {},
   "source": [
    "Lambda Functions\n"
   ]
  },
  {
   "cell_type": "code",
   "execution_count": 13,
   "metadata": {},
   "outputs": [
    {
     "name": "stdout",
     "output_type": "stream",
     "text": [
      "even\n"
     ]
    }
   ],
   "source": [
    "def eve_odd(x):\n",
    "    if x % 2 == 0:\n",
    "        print(\"even\")\n",
    "    else: \n",
    "        print(\"odd\")\n",
    "\n",
    "eve_odd(10)"
   ]
  },
  {
   "cell_type": "code",
   "execution_count": 14,
   "metadata": {},
   "outputs": [
    {
     "name": "stdout",
     "output_type": "stream",
     "text": [
      "even\n"
     ]
    }
   ],
   "source": [
    "even_odd = lambda x: \"even\" if x%2==0 else \"odd\"\n",
    "print(even_odd(10))"
   ]
  },
  {
   "cell_type": "code",
   "execution_count": 15,
   "metadata": {},
   "outputs": [
    {
     "name": "stdout",
     "output_type": "stream",
     "text": [
      "70\n"
     ]
    }
   ],
   "source": [
    "sum = lambda x,y,z : x+y+z\n",
    "print(sum(10,30,30))"
   ]
  },
  {
   "cell_type": "code",
   "execution_count": 23,
   "metadata": {},
   "outputs": [
    {
     "name": "stdout",
     "output_type": "stream",
     "text": [
      "Prime num\n"
     ]
    }
   ],
   "source": [
    "def prime(n):\n",
    "    counter = 0\n",
    "    for i in range(2, n):\n",
    "        if n % i == 0:\n",
    "            counter += 1\n",
    "\n",
    "    if counter == 0:\n",
    "        print(\"Prime num\")\n",
    "    else:\n",
    "        print(\"Composite number\")\n",
    "\n",
    "prime(1)\n"
   ]
  },
  {
   "cell_type": "code",
   "execution_count": 20,
   "metadata": {},
   "outputs": [
    {
     "name": "stdout",
     "output_type": "stream",
     "text": [
      "96.8\n"
     ]
    }
   ],
   "source": [
    "def temp(cel):\n",
    "    fah = cel * (9/5) + 32\n",
    "    print(fah)\n",
    "\n",
    "temp(36)"
   ]
  },
  {
   "cell_type": "code",
   "execution_count": 24,
   "metadata": {},
   "outputs": [
    {
     "name": "stdout",
     "output_type": "stream",
     "text": [
      "2352 is largest\n"
     ]
    }
   ],
   "source": [
    "def max_num(a, b, c):\n",
    "    if a > b and a > c:\n",
    "        print(f\"{a} is largest\")\n",
    "    elif b > c and b > a:\n",
    "        print(f\"{b} is largest\")\n",
    "    else:\n",
    "        print(f\"{c} is largest\")\n",
    "\n",
    "max_num(23, 542, 2352)"
   ]
  },
  {
   "cell_type": "code",
   "execution_count": 25,
   "metadata": {},
   "outputs": [
    {
     "name": "stdout",
     "output_type": "stream",
     "text": [
      "120\n"
     ]
    }
   ],
   "source": [
    "def fact(n):\n",
    "    f = 1\n",
    "    for i in range(1, n+1):\n",
    "        f *= i\n",
    "    print(f)\n",
    "\n",
    "fact(5)"
   ]
  },
  {
   "cell_type": "code",
   "execution_count": 28,
   "metadata": {},
   "outputs": [
    {
     "name": "stdout",
     "output_type": "stream",
     "text": [
      "HAMDAM\n"
     ]
    }
   ],
   "source": [
    "def rev(str):\n",
    "    print(str[::-1])\n",
    "\n",
    "rev(\"MADMAH\")"
   ]
  },
  {
   "cell_type": "code",
   "execution_count": 30,
   "metadata": {},
   "outputs": [
    {
     "name": "stdout",
     "output_type": "stream",
     "text": [
      "There are 1 vowels\n"
     ]
    }
   ],
   "source": [
    "def count_vowels(str):\n",
    "    counter = 0\n",
    "    for i in range(len(str)):\n",
    "        if str[i] == 'a' or str[i] == 'u' or str[i] == 'o' or str[i] == 'i' or str[i] == 'e':\n",
    "            counter += 1\n",
    "    print(f\"There are {counter} vowels\")\n",
    "    \n",
    "count_vowels(\"sdsa\")"
   ]
  },
  {
   "cell_type": "code",
   "execution_count": 1,
   "metadata": {},
   "outputs": [
    {
     "name": "stdout",
     "output_type": "stream",
     "text": [
      "23.661438615467823\n"
     ]
    }
   ],
   "source": [
    "def bmi(wt, ht):\n",
    "    BMI = wt / (ht ** 2)\n",
    "    print(BMI)\n",
    "\n",
    "bmi(70, 1.72)"
   ]
  }
 ],
 "metadata": {
  "kernelspec": {
   "display_name": "base",
   "language": "python",
   "name": "python3"
  },
  "language_info": {
   "codemirror_mode": {
    "name": "ipython",
    "version": 3
   },
   "file_extension": ".py",
   "mimetype": "text/x-python",
   "name": "python",
   "nbconvert_exporter": "python",
   "pygments_lexer": "ipython3",
   "version": "3.12.7"
  }
 },
 "nbformat": 4,
 "nbformat_minor": 2
}
