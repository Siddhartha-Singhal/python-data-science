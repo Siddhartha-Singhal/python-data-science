{
 "cells": [
  {
   "cell_type": "code",
   "execution_count": 2,
   "metadata": {},
   "outputs": [
    {
     "name": "stdout",
     "output_type": "stream",
     "text": [
      "ghapla hai\n"
     ]
    }
   ],
   "source": [
    "kashi = \"happy\"\n",
    "if kashi != \"depression\":\n",
    "    print(\"ghapla hai\")\n",
    "else:\n",
    "    print(\"sb bdhiya hai\")"
   ]
  },
  {
   "cell_type": "code",
   "execution_count": 3,
   "metadata": {},
   "outputs": [
    {
     "name": "stdout",
     "output_type": "stream",
     "text": [
      "sb bdhiya hai\n"
     ]
    }
   ],
   "source": [
    "kashi = \"depression\"\n",
    "if kashi != \"depression\":\n",
    "    print(\"ghapla hai\")\n",
    "else:\n",
    "    print(\"sb bdhiya hai\")\n"
   ]
  },
  {
   "cell_type": "code",
   "execution_count": 7,
   "metadata": {},
   "outputs": [
    {
     "name": "stdout",
     "output_type": "stream",
     "text": [
      "Not Armstrong number\n"
     ]
    }
   ],
   "source": [
    "num = int(input(\"Enter a number:\"))\n",
    "length = len(str(num))\n",
    "temp = num\n",
    "sum = 0\n",
    "while temp > 0:\n",
    "    t = temp % 10\n",
    "    sum = sum + t**length\n",
    "    temp = temp / 10\n",
    "if sum == num:\n",
    "    print(\"Armstrong number\")\n",
    "else:\n",
    "    print(\"Not Armstrong number\")"
   ]
  },
  {
   "cell_type": "code",
   "execution_count": 1,
   "metadata": {},
   "outputs": [
    {
     "name": "stdout",
     "output_type": "stream",
     "text": [
      "Invalid email\n"
     ]
    }
   ],
   "source": [
    "username = input(\"Enter your username:\")\n",
    "email = input(\"Enter your e-mail:\")\n",
    "password = input(\"Enter your password:\")\n",
    "cpass = input(\"Re-enter your password:\")\n",
    "if len(username) > 5 and len(username) < 15:\n",
    "    if '@' in email and len(email) > 10:\n",
    "        if len(password) > 5 and len(password) <= 10:\n",
    "            if password == cpass:\n",
    "                print(\"Hurray! registered successfully\")\n",
    "            else:\n",
    "                print(\"Password mismatch\")\n",
    "        else:\n",
    "            print(\"Incorrect password\")\n",
    "    else:\n",
    "        print(\"Invalid email\")\n",
    "else: \n",
    "    print(\"Invalid Username\")"
   ]
  }
 ],
 "metadata": {
  "kernelspec": {
   "display_name": "base",
   "language": "python",
   "name": "python3"
  },
  "language_info": {
   "codemirror_mode": {
    "name": "ipython",
    "version": 3
   },
   "file_extension": ".py",
   "mimetype": "text/x-python",
   "name": "python",
   "nbconvert_exporter": "python",
   "pygments_lexer": "ipython3",
   "version": "3.12.7"
  }
 },
 "nbformat": 4,
 "nbformat_minor": 2
}
