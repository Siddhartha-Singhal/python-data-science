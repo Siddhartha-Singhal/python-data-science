{
 "cells": [
  {
   "cell_type": "code",
   "execution_count": 2,
   "metadata": {},
   "outputs": [
    {
     "name": "stdout",
     "output_type": "stream",
     "text": [
      "youtube\n",
      "play store\n",
      "['youtube', 'instagram', 'whatsapp', 'facebook', 'x']\n",
      "['google', 'play store', ' messenger', 'file manager']\n",
      "['whatsapp', 'x', 'play store', 'file manager']\n",
      "['adobe scan', 'file manager', ' messenger', 'play store', 'google', 'x', 'facebook']\n"
     ]
    }
   ],
   "source": [
    "apps = [\"youtube\", \"instagram\", \"whatsapp\", \"facebook\", \"x\", \"google\", \"play store\", \" messenger\", \"file manager\", \"adobe scan\"]\n",
    "print(apps [0])\n",
    "print(apps[-4])\n",
    "print(apps[0: 5])\n",
    "print(apps[-5: -1])\n",
    "print(apps[2: 9: 2])\n",
    "print(apps[9: 2: -1])"
   ]
  },
  {
   "cell_type": "markdown",
   "metadata": {},
   "source": [
    "List methods\n",
    "- append - to add element at the end of the list\n",
    "- insert - to add an element at specific position\n",
    "- pop - to delete an element using the index\n",
    "- remove - to delete an element using element name\n",
    "- copy - to make a copy of the list\n",
    "- clear - to delete all the terms of the list but not the list\n",
    "- sort - to arrange items in particular order\n",
    "- extend - to combine two lists into one list"
   ]
  },
  {
   "cell_type": "code",
   "execution_count": 3,
   "metadata": {},
   "outputs": [
    {
     "name": "stdout",
     "output_type": "stream",
     "text": [
      "['youtube', 'instagram', 'whatsapp', 'facebook', 'x', 'google', 'play store', ' messenger', 'file manager', 'adobe scan', 'google classroom']\n"
     ]
    }
   ],
   "source": [
    "apps.append(\"google classroom\")\n",
    "print(apps)"
   ]
  },
  {
   "cell_type": "code",
   "execution_count": 4,
   "metadata": {},
   "outputs": [
    {
     "name": "stdout",
     "output_type": "stream",
     "text": [
      "['youtube', 'instagram', 'whatsapp', 'facebook', 'rapido', 'x', 'google', 'play store', ' messenger', 'file manager', 'adobe scan', 'google classroom']\n"
     ]
    }
   ],
   "source": [
    "apps.insert(4, \"rapido\")\n",
    "print(apps)"
   ]
  },
  {
   "cell_type": "code",
   "execution_count": 5,
   "metadata": {},
   "outputs": [
    {
     "name": "stdout",
     "output_type": "stream",
     "text": [
      "['youtube', 'instagram', 'whatsapp', 'rapido', 'x', 'google', 'play store', ' messenger', 'file manager', 'adobe scan', 'google classroom']\n"
     ]
    }
   ],
   "source": [
    "apps.pop(3)\n",
    "print(apps)"
   ]
  },
  {
   "cell_type": "code",
   "execution_count": 6,
   "metadata": {},
   "outputs": [
    {
     "name": "stdout",
     "output_type": "stream",
     "text": [
      "['youtube', 'instagram', 'whatsapp', 'x', 'google', 'play store', ' messenger', 'file manager', 'adobe scan', 'google classroom']\n"
     ]
    }
   ],
   "source": [
    "apps.remove(\"rapido\")\n",
    "print(apps)"
   ]
  },
  {
   "cell_type": "code",
   "execution_count": 7,
   "metadata": {},
   "outputs": [
    {
     "name": "stdout",
     "output_type": "stream",
     "text": [
      "['youtube', 'instagram', 'whatsapp', 'x', 'google', 'play store', ' messenger', 'file manager', 'adobe scan', 'google classroom']\n"
     ]
    }
   ],
   "source": [
    "a = apps.copy()\n",
    "print(a)"
   ]
  },
  {
   "cell_type": "code",
   "execution_count": 8,
   "metadata": {},
   "outputs": [
    {
     "name": "stdout",
     "output_type": "stream",
     "text": [
      "[]\n"
     ]
    }
   ],
   "source": [
    "a.clear()\n",
    "print(a)"
   ]
  },
  {
   "cell_type": "code",
   "execution_count": 9,
   "metadata": {},
   "outputs": [
    {
     "name": "stdout",
     "output_type": "stream",
     "text": [
      "[' messenger', 'adobe scan', 'file manager', 'google', 'google classroom', 'instagram', 'play store', 'whatsapp', 'x', 'youtube']\n"
     ]
    }
   ],
   "source": [
    "apps.sort()\n",
    "print(apps)"
   ]
  },
  {
   "cell_type": "code",
   "execution_count": 10,
   "metadata": {},
   "outputs": [
    {
     "name": "stdout",
     "output_type": "stream",
     "text": [
      "[' messenger', 'adobe scan', 'file manager', 'google', 'google classroom', 'instagram', 'play store', 'whatsapp', 'x', 'youtube', 'blinkit', 'amazon']\n"
     ]
    }
   ],
   "source": [
    "l1 = [\"blinkit\", \"amazon\"]\n",
    "apps.extend(l1)\n",
    "print(apps)"
   ]
  },
  {
   "cell_type": "markdown",
   "metadata": {},
   "source": [
    "Print elements in descending order"
   ]
  },
  {
   "cell_type": "code",
   "execution_count": 11,
   "metadata": {},
   "outputs": [
    {
     "name": "stdout",
     "output_type": "stream",
     "text": [
      "['youtube', 'x', 'whatsapp', 'play store', 'instagram', 'google classroom', 'google', 'file manager', 'blinkit', 'amazon', 'adobe scan', ' messenger']\n"
     ]
    }
   ],
   "source": [
    "apps.sort(reverse=True)\n",
    "print(apps)"
   ]
  },
  {
   "cell_type": "markdown",
   "metadata": {},
   "source": [
    "Calculate median of the list"
   ]
  },
  {
   "cell_type": "code",
   "execution_count": null,
   "metadata": {},
   "outputs": [
    {
     "name": "stdout",
     "output_type": "stream",
     "text": [
      "Enter the elements of the list:\n",
      "[21, 34, 1, 32, 55, 24, 13, 53]\n",
      "List in sorted order: [1, 13, 21, 24, 32, 34, 53, 55]\n",
      "Median of list is 28.0\n"
     ]
    }
   ],
   "source": [
    "n = int(input(\"Enter size of list:\"))\n",
    "\n",
    "lst = []\n",
    "\n",
    "for i in range(n):\n",
    "    val = int(input())\n",
    "    lst.append(val)\n",
    "\n",
    "print(lst)\n",
    "\n",
    "lst.sort()\n",
    "print(f\"List in sorted order: {lst}\")\n",
    "\n",
    "if len(lst) % 2 != 0:\n",
    "    mid = n//2\n",
    "    print(f\"Median of list is {lst[mid]}\")\n",
    "else:\n",
    "    mid1 = n // 2\n",
    "    mid2 = n // 2 - 1\n",
    "    print(f\"Median of list is {(lst[mid1] + lst[mid2])/2}\")\n"
   ]
  },
  {
   "cell_type": "markdown",
   "metadata": {},
   "source": [
    "Calculate mode of list"
   ]
  },
  {
   "cell_type": "code",
   "execution_count": 30,
   "metadata": {},
   "outputs": [
    {
     "name": "stdout",
     "output_type": "stream",
     "text": [
      "1\n"
     ]
    }
   ],
   "source": [
    "lst = [1, 3, 4, 2, 2, 3, 1, 5, 3, 1, 4, 1]\n",
    "mode = lst[0]\n",
    "freq = lst.count(lst[0])\n",
    "for i in range(1, len(lst)):\n",
    "    if lst.count(lst[i]) > freq:\n",
    "        freq = lst.count(lst[i])\n",
    "        mode = lst[i]\n",
    "print(mode)\n",
    "\n"
   ]
  },
  {
   "cell_type": "code",
   "execution_count": null,
   "metadata": {},
   "outputs": [
    {
     "name": "stdout",
     "output_type": "stream",
     "text": [
      "[1]\n"
     ]
    }
   ],
   "source": [
    "lst = [1, 3, 4, 2, 2, 3, 1, 5, 3, 1, 4, 1]\n",
    "frequency = dict()\n",
    "for i in range(len(lst)):\n",
    "    frequency[lst[i]] = lst.count(lst[i])\n",
    " \n",
    "max_freq = max(frequency.values())\n",
    "key = [k for k, v in frequency.items() if v == max_freq]\n",
    "print(key)"
   ]
  },
  {
   "cell_type": "code",
   "execution_count": 1,
   "metadata": {},
   "outputs": [
    {
     "name": "stdout",
     "output_type": "stream",
     "text": [
      "[[1, 2, 3, 4], [5, 6, 7, 8], [1, 8, 2, 9], [3, 7, 4, 5]]\n"
     ]
    }
   ],
   "source": [
    "n = int(input())\n",
    "lst = []\n",
    "for i in range(n):\n",
    "    tempList = [int(item) for item in input().split()]\n",
    "    lst.append(tempList)\n",
    "print(lst)"
   ]
  },
  {
   "cell_type": "markdown",
   "metadata": {},
   "source": [
    "Find the diagonal of the matrix"
   ]
  },
  {
   "cell_type": "code",
   "execution_count": 8,
   "metadata": {},
   "outputs": [
    {
     "name": "stdout",
     "output_type": "stream",
     "text": [
      "Size of array: 3\n",
      "[[1, 2, 3], [4, 5, 6], [7, 8, 9]]\n",
      "[1, 5, 9]\n"
     ]
    }
   ],
   "source": [
    "n = int(input(\"Enter the size of array:\"))\n",
    "print(f\"Size of array: {n}\")\n",
    "matrix = []\n",
    "\n",
    "for i in range(n):\n",
    "    tempList = [int(item) for item in input().split()]\n",
    "    matrix.append(tempList)\n",
    "print(matrix)\n",
    "\n",
    "diagonal = []\n",
    "for i in range(n):\n",
    "    diagonal.append(matrix[i][i])\n",
    "\n",
    "print(diagonal)"
   ]
  },
  {
   "cell_type": "markdown",
   "metadata": {},
   "source": [
    "Find the transpose of the matrix"
   ]
  },
  {
   "cell_type": "code",
   "execution_count": null,
   "metadata": {},
   "outputs": [
    {
     "name": "stdout",
     "output_type": "stream",
     "text": [
      "Enter the size of the matrix: 3\n",
      "[['1', '2', '3'], ['4', '5', '6'], ['7', '8', '9']]\n",
      "[['1', '4', '7'], ['2', '5', '8'], ['3', '6', '9']]\n"
     ]
    }
   ],
   "source": [
    "print(\"Enter the size of the matrix:\", end=\" \")\n",
    "n = int(input())\n",
    "print(n)\n",
    "matrix = []\n",
    "\n",
    "for i in range(n):\n",
    "    val = [item for item in input().split()]\n",
    "    matrix.append(val)\n",
    "print(matrix)\n",
    "\n",
    "for i in range(n):\n",
    "    for j in range(n):\n",
    "        if j > i:\n",
    "           temp = matrix[i][j]\n",
    "           matrix[i][j] = matrix[j][i]\n",
    "           matrix[j][i] = temp\n",
    "print(matrix)"
   ]
  },
  {
   "cell_type": "code",
   "execution_count": null,
   "metadata": {},
   "outputs": [],
   "source": []
  }
 ],
 "metadata": {
  "kernelspec": {
   "display_name": "base",
   "language": "python",
   "name": "python3"
  },
  "language_info": {
   "codemirror_mode": {
    "name": "ipython",
    "version": 3
   },
   "file_extension": ".py",
   "mimetype": "text/x-python",
   "name": "python",
   "nbconvert_exporter": "python",
   "pygments_lexer": "ipython3",
   "version": "3.12.7"
  }
 },
 "nbformat": 4,
 "nbformat_minor": 2
}
