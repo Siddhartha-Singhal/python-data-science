{
 "cells": [
  {
   "cell_type": "markdown",
   "metadata": {},
   "source": [
    "Q1.  Define a variable in Python. \n",
    "- Write a program where the user enters their favorite number \n",
    "- and the program responds: \"Wow! [number] is an amazing number!\""
   ]
  },
  {
   "cell_type": "markdown",
   "metadata": {},
   "source": [
    "Answer 1"
   ]
  },
  {
   "cell_type": "markdown",
   "metadata": {},
   "source": [
    "What is Variable ?\n"
   ]
  },
  {
   "cell_type": "code",
   "execution_count": 1,
   "metadata": {},
   "outputs": [
    {
     "name": "stdout",
     "output_type": "stream",
     "text": [
      "Enter a number: 23\n",
      "Wow! 23 is an amazing number!\n"
     ]
    }
   ],
   "source": [
    "print(\"Enter a number:\", end=\" \")\n",
    "num = int(input(\"Enter a number:\"))\n",
    "print(num)\n",
    "\n",
    "print(f\"Wow! {num} is an amazing number!\")"
   ]
  },
  {
   "cell_type": "markdown",
   "metadata": {},
   "source": [
    "------\n"
   ]
  },
  {
   "cell_type": "markdown",
   "metadata": {},
   "source": [
    "Q2. What is the difference between integers and floats? \n",
    "- Write a program to calculate the square of a number."
   ]
  },
  {
   "cell_type": "markdown",
   "metadata": {},
   "source": [
    "Answer 2"
   ]
  },
  {
   "cell_type": "markdown",
   "metadata": {},
   "source": [
    "Integer - \n",
    "\n",
    "Floats - "
   ]
  },
  {
   "cell_type": "code",
   "execution_count": 4,
   "metadata": {},
   "outputs": [
    {
     "name": "stdout",
     "output_type": "stream",
     "text": [
      "Enter a number: 4\n",
      "Square of the number is 16\n"
     ]
    }
   ],
   "source": [
    "print(\"Enter a number:\", end=\" \")\n",
    "num = int(input())\n",
    "print(num)\n",
    "print(f\"Square of the number is {num**2}\")"
   ]
  },
  {
   "cell_type": "markdown",
   "metadata": {},
   "source": [
    "------\n"
   ]
  },
  {
   "cell_type": "markdown",
   "metadata": {},
   "source": [
    "Q3. Write a program to store\n",
    "- your name, your friend’s name, and your favorite food in separate variables.\n",
    "- Combine these into a sentence: \"Hi, I am [your name]. This is my friend [friend’s name], and we both love [food]!\""
   ]
  },
  {
   "cell_type": "code",
   "execution_count": 2,
   "metadata": {},
   "outputs": [
    {
     "name": "stdout",
     "output_type": "stream",
     "text": [
      "Hi, I am Siddhartha. This is my friend Vaibhav, and we both love Kebab Paratha!\n"
     ]
    }
   ],
   "source": [
    "myName = \"Siddhartha\"\n",
    "friendName = \"Vaibhav\"\n",
    "favFood = \"Kebab Paratha\"\n",
    "print(f\"Hi, I am {myName}. This is my friend {friendName}, and we both love {favFood}!\")"
   ]
  },
  {
   "cell_type": "markdown",
   "metadata": {},
   "source": [
    "-----\n"
   ]
  },
  {
   "cell_type": "markdown",
   "metadata": {},
   "source": [
    "Q4. Write a program to check whether a character entered by user is vowel or consonant."
   ]
  },
  {
   "cell_type": "code",
   "execution_count": 5,
   "metadata": {},
   "outputs": [
    {
     "name": "stdout",
     "output_type": "stream",
     "text": [
      "Enter a character: G\n",
      "Entered character is a consonant\n"
     ]
    }
   ],
   "source": [
    "print(\"Enter a character:\", end=\" \")\n",
    "char = input()\n",
    "print(char)\n",
    "\n",
    "if char.lower() == 'a' or char.lower() == 'e' or char.lower() == 'i' or char.lower() == 'u' or char.lower() == 'o':\n",
    "    print(\"Entered character is a vowel\")\n",
    "else:\n",
    "    print(\"Entered character is a consonant\")"
   ]
  },
  {
   "cell_type": "markdown",
   "metadata": {},
   "source": [
    "----\n"
   ]
  },
  {
   "cell_type": "markdown",
   "metadata": {},
   "source": [
    "Q5. \n",
    "- Ask the user for two numbers. \n",
    "- Print their sum, \n",
    "- with display this fun message: \"If we add [number1] and [number2], we get [sum]!\""
   ]
  },
  {
   "cell_type": "code",
   "execution_count": 6,
   "metadata": {},
   "outputs": [
    {
     "name": "stdout",
     "output_type": "stream",
     "text": [
      "Enter 2 numbers: 23 12\n",
      "If we add 23 and 12, we get 35!\n"
     ]
    }
   ],
   "source": [
    "print(\"Enter 2 numbers:\" , end=\" \")\n",
    "num1 = int(input())\n",
    "num2 = int(input())\n",
    "print(num1, num2)\n",
    "\n",
    "print(f\"If we add {num1} and {num2}, we get {num1+num2}!\")"
   ]
  },
  {
   "cell_type": "markdown",
   "metadata": {},
   "source": [
    "------"
   ]
  },
  {
   "cell_type": "markdown",
   "metadata": {},
   "source": [
    "Q6. Write a program to calculate the average of marks a student obtained. \n",
    "- Ask for marks in 5 subjects and total marks. \n",
    "- Challenge (optional) Display the result rounded to two decimal places."
   ]
  },
  {
   "cell_type": "code",
   "execution_count": 9,
   "metadata": {},
   "outputs": [
    {
     "name": "stdout",
     "output_type": "stream",
     "text": [
      "Enter 5 numbers: 78 78 67 66 98\n",
      "Enter total marks: 500\n",
      "Average of 5 subject is 77.4\n"
     ]
    }
   ],
   "source": [
    "print(\"Enter 5 numbers:\" , end=\" \")\n",
    "marks1 = int(input())\n",
    "marks2 = int(input())\n",
    "marks3 = int(input())\n",
    "marks4 = int(input())\n",
    "marks5 = int(input())\n",
    "print(marks1, marks2, marks3, marks4, marks5)\n",
    "\n",
    "print(\"Enter total marks:\" , end=\" \")\n",
    "totalMarks = int(input())\n",
    "print(totalMarks)\n",
    "\n",
    "avg = (marks1 + marks2 + marks3 + marks4 + marks5) / 5\n",
    "\n",
    "print(f\"Average of 5 subject is {avg}\")"
   ]
  },
  {
   "cell_type": "markdown",
   "metadata": {},
   "source": [
    "------"
   ]
  },
  {
   "cell_type": "markdown",
   "metadata": {},
   "source": [
    "Q7. Write a program to print all the even numbers between 1 to 50."
   ]
  },
  {
   "cell_type": "code",
   "execution_count": 11,
   "metadata": {},
   "outputs": [
    {
     "name": "stdout",
     "output_type": "stream",
     "text": [
      "2 4 6 8 10 12 14 16 18 20 22 24 26 28 30 32 34 36 38 40 42 44 46 48 50 "
     ]
    }
   ],
   "source": [
    "for i in range(1, 51):\n",
    "    if i % 2 == 0:\n",
    "        print(i, end=\" \")"
   ]
  },
  {
   "cell_type": "markdown",
   "metadata": {},
   "source": [
    "-----"
   ]
  },
  {
   "cell_type": "markdown",
   "metadata": {},
   "source": [
    "Q8. Write a program to find the largest of three numbers entered by the user."
   ]
  },
  {
   "cell_type": "code",
   "execution_count": 13,
   "metadata": {},
   "outputs": [
    {
     "name": "stdout",
     "output_type": "stream",
     "text": [
      "Enter 3 numbers: 12 43 234\n",
      "234 is largest\n"
     ]
    }
   ],
   "source": [
    "print(\"Enter 3 numbers:\" , end=\" \")\n",
    "num1 = int(input())\n",
    "num2 = int(input())\n",
    "num3 = int(input())\n",
    "print(num1, num2, num3)\n",
    "\n",
    "if num1 > num2 and num1 > num3:\n",
    "    print(f\"{num1} is largest\")\n",
    "if num2 > num1 and num2 > num3:\n",
    "    print(f\"{num2} is largest\")\n",
    "else:\n",
    "    print(f\"{num3} is largest\")"
   ]
  },
  {
   "cell_type": "markdown",
   "metadata": {},
   "source": [
    "----"
   ]
  },
  {
   "cell_type": "markdown",
   "metadata": {},
   "source": [
    "Q9. Create a program that calculates the area of triangle."
   ]
  },
  {
   "cell_type": "code",
   "execution_count": 14,
   "metadata": {},
   "outputs": [
    {
     "name": "stdout",
     "output_type": "stream",
     "text": [
      "Enter base and height of triangle: 12 23\n",
      "Area of rectangle is 138.0\n"
     ]
    }
   ],
   "source": [
    "print(\"Enter base and height of triangle:\" , end=\" \")\n",
    "base = int(input())\n",
    "height = int(input())\n",
    "print(base, height)\n",
    "\n",
    "print(f\"Area of rectangle is {0.5 * base * height}\")"
   ]
  },
  {
   "cell_type": "markdown",
   "metadata": {},
   "source": [
    "------"
   ]
  },
  {
   "cell_type": "markdown",
   "metadata": {},
   "source": [
    "Q10. Write a Python program to print all even numbers between 1 and 50."
   ]
  },
  {
   "cell_type": "code",
   "execution_count": 15,
   "metadata": {},
   "outputs": [
    {
     "name": "stdout",
     "output_type": "stream",
     "text": [
      "2 4 6 8 10 12 14 16 18 20 22 24 26 28 30 32 34 36 38 40 42 44 46 48 50 "
     ]
    }
   ],
   "source": [
    "for i in range(1, 51):\n",
    "    if i % 2 == 0:\n",
    "        print(i, end=\" \")"
   ]
  },
  {
   "cell_type": "markdown",
   "metadata": {},
   "source": [
    "-----"
   ]
  },
  {
   "cell_type": "markdown",
   "metadata": {},
   "source": [
    "Q11. Write a program that reverses a given string entered by the user."
   ]
  },
  {
   "cell_type": "code",
   "execution_count": 17,
   "metadata": {},
   "outputs": [
    {
     "name": "stdout",
     "output_type": "stream",
     "text": [
      "Enter a string: madman\n",
      "Reversed string: namdam\n"
     ]
    }
   ],
   "source": [
    "print(\"Enter a string:\", end=\" \")\n",
    "str = input()\n",
    "print(str)\n",
    "print(f\"Reversed string: {str[::-1]}\")\n"
   ]
  },
  {
   "cell_type": "markdown",
   "metadata": {},
   "source": [
    "-----"
   ]
  },
  {
   "cell_type": "markdown",
   "metadata": {},
   "source": [
    "Q12. What is the difference between a for loop and a while loop? Provide an example for each.\n"
   ]
  },
  {
   "cell_type": "code",
   "execution_count": 19,
   "metadata": {},
   "outputs": [
    {
     "name": "stdout",
     "output_type": "stream",
     "text": [
      "2 4 6 8 10 12 14 16 18 20 22 24 26 28 30 32 34 36 38 40 42 44 46 48 50 "
     ]
    }
   ],
   "source": [
    "# for loop\n",
    "for i in range(1, 51):\n",
    "    if i % 2 == 0:\n",
    "        print(i, end=\" \")\n",
    "\n"
   ]
  },
  {
   "cell_type": "code",
   "execution_count": 22,
   "metadata": {},
   "outputs": [
    {
     "name": "stdout",
     "output_type": "stream",
     "text": [
      "2 4 6 8 10 12 14 16 18 20 22 24 26 28 30 32 34 36 38 40 42 44 46 48 50 "
     ]
    }
   ],
   "source": [
    "# while loop\n",
    "i = 1\n",
    "while i <= 50:\n",
    "    if i % 2 == 0:\n",
    "        print(i, end=\" \")\n",
    "    i += 1"
   ]
  },
  {
   "cell_type": "markdown",
   "metadata": {},
   "source": [
    "----"
   ]
  },
  {
   "cell_type": "markdown",
   "metadata": {},
   "source": [
    "Q13. Write a Python program to print I AM THE BEST 10 times."
   ]
  },
  {
   "cell_type": "code",
   "execution_count": 23,
   "metadata": {},
   "outputs": [
    {
     "name": "stdout",
     "output_type": "stream",
     "text": [
      "I AM THE BEST\n",
      "I AM THE BEST\n",
      "I AM THE BEST\n",
      "I AM THE BEST\n",
      "I AM THE BEST\n",
      "I AM THE BEST\n",
      "I AM THE BEST\n",
      "I AM THE BEST\n",
      "I AM THE BEST\n",
      "I AM THE BEST\n"
     ]
    }
   ],
   "source": [
    "for i in range(10):\n",
    "    print(\"I AM THE BEST\")"
   ]
  },
  {
   "cell_type": "markdown",
   "metadata": {},
   "source": [
    "----"
   ]
  },
  {
   "cell_type": "markdown",
   "metadata": {},
   "source": [
    "Q14. Write a program that uses a while loop to calculate the sum of all numbers from 1 to 100."
   ]
  },
  {
   "cell_type": "code",
   "execution_count": 25,
   "metadata": {},
   "outputs": [
    {
     "name": "stdout",
     "output_type": "stream",
     "text": [
      "Sum of numbers from 1 and 100 is 5050\n"
     ]
    }
   ],
   "source": [
    "i = 1\n",
    "sum = 0\n",
    "\n",
    "while i <= 100:\n",
    "    sum += i\n",
    "    i += 1\n",
    "\n",
    "print(f\"Sum of numbers from 1 and 100 is {sum}\")"
   ]
  },
  {
   "cell_type": "markdown",
   "metadata": {},
   "source": [
    "---"
   ]
  },
  {
   "cell_type": "markdown",
   "metadata": {},
   "source": [
    "Q15. Create a program that prints the multiplication table of a number entered by the user"
   ]
  },
  {
   "cell_type": "code",
   "execution_count": 26,
   "metadata": {},
   "outputs": [
    {
     "name": "stdout",
     "output_type": "stream",
     "text": [
      "Enter a number: 4\n",
      "4 * 1 = 4\n",
      "4 * 2 = 8\n",
      "4 * 3 = 12\n",
      "4 * 4 = 16\n",
      "4 * 5 = 20\n",
      "4 * 6 = 24\n",
      "4 * 7 = 28\n",
      "4 * 8 = 32\n",
      "4 * 9 = 36\n",
      "4 * 10 = 40\n"
     ]
    }
   ],
   "source": [
    "print(\"Enter a number:\", end=\" \")\n",
    "num = int(input())\n",
    "print(num)\n",
    "\n",
    "for i in range(1, 11):\n",
    "    print(f\"{num} * {i} = {num * i}\")"
   ]
  },
  {
   "cell_type": "markdown",
   "metadata": {},
   "source": [
    "---"
   ]
  },
  {
   "cell_type": "markdown",
   "metadata": {},
   "source": [
    "Q16. Write a Python program to find the factorial of a number using a for loop."
   ]
  },
  {
   "cell_type": "code",
   "execution_count": 27,
   "metadata": {},
   "outputs": [
    {
     "name": "stdout",
     "output_type": "stream",
     "text": [
      "Enter a number: 5\n",
      "Factorial of number is 120\n"
     ]
    }
   ],
   "source": [
    "print(\"Enter a number:\", end=\" \")\n",
    "num = int(input())\n",
    "print(num)\n",
    "fact = 1\n",
    "\n",
    "for i in range(1, num + 1):\n",
    "    fact *= i\n",
    "\n",
    "print(f\"Factorial of number is {fact}\")"
   ]
  },
  {
   "cell_type": "markdown",
   "metadata": {},
   "source": [
    "-----"
   ]
  },
  {
   "cell_type": "markdown",
   "metadata": {},
   "source": [
    "Q17. Create a program that takes the user's marks (out of 100) as input and prints their grade based on the following \n",
    "- criteria:\n",
    "- Grade A: Marks >= 90\n",
    "- Grade B: Marks >= 75 and < 90\n",
    "- Grade C: Marks >= 50 and < 75\n",
    "- Fail: Marks < 50"
   ]
  },
  {
   "cell_type": "code",
   "execution_count": 32,
   "metadata": {},
   "outputs": [
    {
     "name": "stdout",
     "output_type": "stream",
     "text": [
      "Enter marks of student out of 100: 98\n",
      "Grade A\n"
     ]
    }
   ],
   "source": [
    "print(\"Enter marks of student out of 100:\", end=\" \")\n",
    "marks = int(input())\n",
    "print(marks)\n",
    "\n",
    "if marks >= 90:\n",
    "    print(\"Grade A\")\n",
    "elif marks >= 75 and marks < 90:\n",
    "    print(\"Grade B\")\n",
    "elif marks >= 50 and marks < 75:\n",
    "    print(\"Grade C\")\n",
    "else:\n",
    "    print(\"Fail\")"
   ]
  },
  {
   "cell_type": "markdown",
   "metadata": {},
   "source": [
    "----"
   ]
  },
  {
   "cell_type": "markdown",
   "metadata": {},
   "source": [
    "Q18. Write a program to check whether a number is positive, negative, or zero."
   ]
  },
  {
   "cell_type": "code",
   "execution_count": 29,
   "metadata": {},
   "outputs": [
    {
     "name": "stdout",
     "output_type": "stream",
     "text": [
      "Enter a number: -32\n",
      "Negative number\n"
     ]
    }
   ],
   "source": [
    "print(\"Enter a number:\", end=\" \")\n",
    "num = int(input())\n",
    "print(num)\n",
    "\n",
    "if num > 0:\n",
    "    print(\"Positive number\")\n",
    "if num == 0:\n",
    "    print(\"Zero\")\n",
    "if num < 0:\n",
    "    print(\"Negative number\")"
   ]
  },
  {
   "cell_type": "markdown",
   "metadata": {},
   "source": [
    "----"
   ]
  },
  {
   "cell_type": "markdown",
   "metadata": {},
   "source": [
    "Q19. Write a Python program to check if a year is leap year or not."
   ]
  },
  {
   "cell_type": "code",
   "execution_count": null,
   "metadata": {},
   "outputs": [
    {
     "name": "stdout",
     "output_type": "stream",
     "text": [
      "Enter a year: 1131\n"
     ]
    }
   ],
   "source": [
    "print(\"Enter a year:\", end=\" \")\n",
    "year = int(input())\n",
    "print(year)\n",
    "\n",
    "if year % 4 == 0:\n",
    "    if year % 100 == 0 and year % 400 == 0:\n",
    "        print(\"Leap year\")\n",
    "    elif year % 100 == 0 and year % 400 != 0:\n",
    "        print(\"Not Leap year\")\n",
    "    else:\n",
    "        print(\"Leap year\")\n",
    "else:\n",
    "    print(\"Leap year\")"
   ]
  },
  {
   "cell_type": "markdown",
   "metadata": {},
   "source": [
    "-----"
   ]
  },
  {
   "cell_type": "markdown",
   "metadata": {},
   "source": [
    "Q20. Write a program to create a website account system."
   ]
  },
  {
   "cell_type": "code",
   "execution_count": 39,
   "metadata": {},
   "outputs": [
    {
     "name": "stdout",
     "output_type": "stream",
     "text": [
      "Enter your name: Siddhartha\n",
      "Enter your email: sidd1405@gmail.com\n",
      "Enter your password: 2353@dda\n",
      "Password must have more than 8 characters\n"
     ]
    }
   ],
   "source": [
    "print(\"Enter your name:\", end=\" \")\n",
    "name = input()\n",
    "print(name)\n",
    "\n",
    "print(\"Enter your email:\", end=\" \")\n",
    "email = input()\n",
    "print(email)\n",
    "\n",
    "print(\"Enter your password:\", end=\" \")\n",
    "password = input()\n",
    "print(password)\n",
    "\n",
    "if len(name) > 8:\n",
    "    if len(email) > 15 and '@' in email and '.com' in email:\n",
    "        if len(password) > 8:\n",
    "            print(\"You have successfully logged in\")\n",
    "        else:\n",
    "            print(\"Password must have more than 8 characters\")\n",
    "    else:\n",
    "        print(\"Enter a valid email id which has more than 15 characters and contain '@' and '.com'\")\n",
    "else:\n",
    "    print(\"Enter a valid full name\")\n"
   ]
  },
  {
   "cell_type": "markdown",
   "metadata": {},
   "source": [
    "----"
   ]
  },
  {
   "cell_type": "markdown",
   "metadata": {},
   "source": []
  }
 ],
 "metadata": {
  "kernelspec": {
   "display_name": "base",
   "language": "python",
   "name": "python3"
  },
  "language_info": {
   "codemirror_mode": {
    "name": "ipython",
    "version": 3
   },
   "file_extension": ".py",
   "mimetype": "text/x-python",
   "name": "python",
   "nbconvert_exporter": "python",
   "pygments_lexer": "ipython3",
   "version": "3.12.7"
  }
 },
 "nbformat": 4,
 "nbformat_minor": 2
}
