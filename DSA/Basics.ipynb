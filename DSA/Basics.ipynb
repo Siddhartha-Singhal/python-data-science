{
 "cells": [
  {
   "cell_type": "markdown",
   "metadata": {},
   "source": [
    "# Sum of N natural numbers"
   ]
  },
  {
   "cell_type": "code",
   "execution_count": 2,
   "metadata": {},
   "outputs": [
    {
     "name": "stdout",
     "output_type": "stream",
     "text": [
      "Sum of 45 natural numbers is 1035\n"
     ]
    }
   ],
   "source": [
    "n = int(input(\"Enter a num:\"))\n",
    "sum = (n * (n+1)) // 2\n",
    "print(f\"Sum of {n} natural numbers is {sum}\")"
   ]
  },
  {
   "cell_type": "markdown",
   "metadata": {},
   "source": [
    "# Count number of digits in a number"
   ]
  },
  {
   "cell_type": "code",
   "execution_count": 3,
   "metadata": {},
   "outputs": [
    {
     "name": "stdout",
     "output_type": "stream",
     "text": [
      "Number of digits in 23642 is 5\n"
     ]
    }
   ],
   "source": [
    "n = input(\"Enter a number:\")\n",
    "print(f\"Number of digits in {n} is {len(n)}\")"
   ]
  },
  {
   "cell_type": "code",
   "execution_count": 5,
   "metadata": {},
   "outputs": [
    {
     "name": "stdout",
     "output_type": "stream",
     "text": [
      "Number of digits in 353245 is 6\n"
     ]
    }
   ],
   "source": [
    "n = int(input(\"Enter a num:\"))\n",
    "temp = n\n",
    "count = 0\n",
    "while temp > 0:\n",
    "    count += 1\n",
    "    temp = temp // 10\n",
    "print(f\"Number of digits in {n} is {count}\")\n"
   ]
  },
  {
   "cell_type": "markdown",
   "metadata": {},
   "source": [
    "# Check if a number is Palindrome number or not"
   ]
  },
  {
   "cell_type": "code",
   "execution_count": 7,
   "metadata": {},
   "outputs": [
    {
     "name": "stdout",
     "output_type": "stream",
     "text": [
      "2345432 is a Palindrome num\n"
     ]
    }
   ],
   "source": [
    "n = int(input(\"Enter a number:\"))\n",
    "temp = n\n",
    "rev = 0\n",
    "\n",
    "while temp > 0:\n",
    "    rev = (rev * 10) + (temp % 10)\n",
    "    temp = temp // 10\n",
    "\n",
    "if n == rev:\n",
    "    print(f\"{n} is a Palindrome num\")\n",
    "else:\n",
    "    print(f\"{n} is not a Palindrome num\")"
   ]
  },
  {
   "cell_type": "markdown",
   "metadata": {},
   "source": [
    "# Factorial of a number"
   ]
  },
  {
   "cell_type": "code",
   "execution_count": null,
   "metadata": {},
   "outputs": [
    {
     "name": "stdout",
     "output_type": "stream",
     "text": [
      "Factorial of 10 is 3628800\n"
     ]
    }
   ],
   "source": [
    "n = int(input(\"Enter a num:\"))\n",
    "temp = n\n",
    "fact = 1\n",
    "\n",
    "while temp >= 1:\n",
    "    fact *= temp\n",
    "    temp -= 1\n",
    "\n",
    "if n == 0 or n == 1:\n",
    "    print(f\"Factorial of {n} is 1\")\n",
    "else:\n",
    "    print(f\"Factorial of {n} is {fact}\")"
   ]
  },
  {
   "cell_type": "markdown",
   "metadata": {},
   "source": [
    "**Recursive approach**"
   ]
  },
  {
   "cell_type": "code",
   "execution_count": 12,
   "metadata": {},
   "outputs": [
    {
     "name": "stdout",
     "output_type": "stream",
     "text": [
      "Factorial of 6 is 720\n"
     ]
    }
   ],
   "source": [
    "def factorial(n):\n",
    "    if n == 0 or n == 1:\n",
    "        return 1\n",
    "    return n * factorial(n-1)\n",
    "\n",
    "n = int(input(\"Enter a num\"))\n",
    "fact = factorial(n)\n",
    "print(f\"Factorial of {n} is {fact}\")"
   ]
  },
  {
   "cell_type": "markdown",
   "metadata": {},
   "source": [
    "# Count number of digits in a factorial"
   ]
  },
  {
   "cell_type": "markdown",
   "metadata": {},
   "source": [
    "Computing 𝑁! directly for large N (like 100000!) isn't feasible because it would result in an enormous number that can't be stored in basic data types.\n",
    "#### MATHEMATICAL TRICK\n",
    "- The number of digits in a number X is given by:\n",
    "<br> **digits = ⌊log X base 10⌋ + 1**\n",
    "- Instead of computing 𝑁! directly, we use logarithms:\n",
    "<br> **log10(N!) = log10(1) + log10(2)+ ⋯ + log10(N)**\n",
    "- Then, the number of digits in 𝑁! is:\n",
    "<br> **⌊log10(N!)⌋ + 1**"
   ]
  },
  {
   "cell_type": "code",
   "execution_count": 7,
   "metadata": {},
   "outputs": [
    {
     "name": "stdout",
     "output_type": "stream",
     "text": [
      "7\n"
     ]
    }
   ],
   "source": [
    "import math\n",
    "\n",
    "def digits_in_factorial(n):\n",
    "    if n == 1:\n",
    "        return 1\n",
    "    log_sum = 0\n",
    "    for i in range(1, n+1):\n",
    "        log_sum += math.log10(i)\n",
    "\n",
    "    return math.floor(log_sum) + 1\n",
    "\n",
    "print(digits_in_factorial(10))"
   ]
  },
  {
   "cell_type": "markdown",
   "metadata": {},
   "source": [
    "# Find the Number of Trailing Zeros in the factorial of the number.\n",
    "The Trailing Zeros are the Zeros, which appear at the end of a number"
   ]
  },
  {
   "cell_type": "code",
   "execution_count": 6,
   "metadata": {},
   "outputs": [
    {
     "name": "stdout",
     "output_type": "stream",
     "text": [
      "Factorial of 3 is: 6\n",
      "0\n"
     ]
    }
   ],
   "source": [
    "import math\n",
    "\n",
    "n = 3\n",
    "count = 0\n",
    "fact = math.factorial(n)\n",
    "print(f\"Factorial of {n} is: {fact}\")\n",
    "\n",
    "while fact > 0:\n",
    "    if fact % 10 == 0:\n",
    "        count += 1\n",
    "        fact //= 10\n",
    "    else:\n",
    "        break\n",
    "\n",
    "print(count)"
   ]
  },
  {
   "cell_type": "markdown",
   "metadata": {},
   "source": [
    "####  Efficient Approach\n",
    "The idea is to consider prime factors of a factorial n. A trailing zero is always produced by prime factors 2 and 5. Our task is done if we can count the number of 5s and 2s. Consider the following examples:\n",
    "- n = 5: There is one 5 and 3 2s in prime factors of 5! (2 * 2 * 2 * 3 * 5). So a count of trailing 0s is 1.\n",
    "- n = 11: There are two 5s and eight 2s in prime factors of 11! (2 8 * 34 * 52 * 7). So the count of trailing 0s is 2.<br><br>\n",
    "We can easily observe that the number of 2s in prime factors is always more than or equal to the number of 5s. So if we count 5s in prime factors, we are done.**\n"
   ]
  },
  {
   "cell_type": "code",
   "execution_count": null,
   "metadata": {},
   "outputs": [
    {
     "name": "stdout",
     "output_type": "stream",
     "text": [
      "24\n"
     ]
    }
   ],
   "source": [
    "def count_trailing_zeroes(n):\n",
    "    i = 5  # to divide the number by 5\n",
    "    count = 0  # to count the number of times the number can be divided by 5\n",
    "    while n // i >= 1:\n",
    "        count += n // i\n",
    "        i *= 5\n",
    "    return count\n",
    "    \n",
    "n = int(input(\"Enter a number\"))\n",
    "print(count_trailing_zeroes(100))"
   ]
  },
  {
   "cell_type": "markdown",
   "metadata": {},
   "source": [
    "### How Does the Code Work?\n",
    "<br>Step 1: Start with 5️⃣\n",
    "<br>We first count how many numbers in 1 to 100 can be divided by 5.\n",
    "<br>\n",
    "<br>📌 Numbers like 5, 10, 15, 20, 25, 30... all have a factor of 5!\n",
    "<br>👉 There are 100 ÷ 5 = 20 of these numbers!\n",
    "<br>\n",
    "<br>Step 2: Look for Extra 5s (Like 25, 50, 75...)\n",
    "<br>Some numbers, like 25, 50, 75, have two 5s inside them!\n",
    "<br>\n",
    "<br>📌 Example: 25 = 5 × 5\n",
    "<br>👉 So we count those extra 5s by dividing by 25:\n",
    "<br>👉 100 ÷ 25 = 4 extra fives\n",
    "<br>\n",
    "<br>Step 3: Keep Checking Bigger Numbers (Like 125, 625...)\n",
    "<br>Next, we check bigger numbers like 125, 625..."
   ]
  },
  {
   "cell_type": "markdown",
   "metadata": {},
   "source": [
    "# Find GCD or HCF of 2 number"
   ]
  },
  {
   "cell_type": "code",
   "execution_count": 1,
   "metadata": {},
   "outputs": [
    {
     "name": "stdout",
     "output_type": "stream",
     "text": [
      "6\n"
     ]
    }
   ],
   "source": [
    "a = int(input())\n",
    "b = int(input())\n",
    "\n",
    "x = min(a, b)\n",
    "\n",
    "for i in range(x, 0, -1):\n",
    "    if a % i == 0 and b % i == 0:\n",
    "        print(i)\n",
    "        break\n",
    "\n"
   ]
  },
  {
   "cell_type": "markdown",
   "metadata": {},
   "source": [
    "**Better approach**\n",
    "<br>Keep subtracting the smaller number from the larger one until both numbers become the same."
   ]
  },
  {
   "cell_type": "code",
   "execution_count": 3,
   "metadata": {},
   "outputs": [
    {
     "data": {
      "text/plain": [
       "13"
      ]
     },
     "execution_count": 3,
     "metadata": {},
     "output_type": "execute_result"
    }
   ],
   "source": [
    "def gcd(a, b):\n",
    "    while a != b:\n",
    "        if a > b:\n",
    "            a = a - b\n",
    "        else:\n",
    "            b = b - a\n",
    "    return a\n",
    "\n",
    "gcd(13,52)"
   ]
  },
  {
   "cell_type": "markdown",
   "metadata": {},
   "source": [
    "**Optimized approach**\n",
    "<br>✅ while b: means \"keep looping until b becomes 0\"\n",
    "<br>✅ Using a % b reduces numbers faster than subtraction (a - b)\n",
    "<br>✅ Final 'a' value is the GCD when 'b' becomes 0\n",
    "<br>🚀 More efficient than the subtraction method!"
   ]
  },
  {
   "cell_type": "code",
   "execution_count": 12,
   "metadata": {},
   "outputs": [
    {
     "data": {
      "text/plain": [
       "14"
      ]
     },
     "execution_count": 12,
     "metadata": {},
     "output_type": "execute_result"
    }
   ],
   "source": [
    "def hcf(a, b):\n",
    "    while b:\n",
    "        a, b = b, a % b\n",
    "    return a\n",
    "\n",
    "hcf(56, 98)"
   ]
  },
  {
   "cell_type": "markdown",
   "metadata": {},
   "source": [
    "# Find LCM of 2 numbers"
   ]
  },
  {
   "cell_type": "code",
   "execution_count": 11,
   "metadata": {},
   "outputs": [
    {
     "name": "stdout",
     "output_type": "stream",
     "text": [
      "636\n"
     ]
    }
   ],
   "source": [
    "def lcm(a, b):\n",
    "    maximum = max(a, b)\n",
    "    while maximum != 0:\n",
    "        if maximum % a == 0 and maximum % b == 0:\n",
    "            print(maximum)\n",
    "            break\n",
    "        maximum += 1\n",
    "lcm(12, 53)"
   ]
  },
  {
   "cell_type": "markdown",
   "metadata": {},
   "source": [
    "**Optimized Approach**"
   ]
  },
  {
   "cell_type": "code",
   "execution_count": null,
   "metadata": {},
   "outputs": [
    {
     "name": "stdout",
     "output_type": "stream",
     "text": [
      "120\n"
     ]
    }
   ],
   "source": [
    "def LCM(a, b):\n",
    "    lcm = (a * b) // hcf(a, b)  # hcf(a, b) is taken from above code\n",
    "    return lcm\n",
    "lcm(12, 120)"
   ]
  },
  {
   "cell_type": "markdown",
   "metadata": {},
   "source": [
    "# Check if a number is prime or not"
   ]
  },
  {
   "cell_type": "code",
   "execution_count": 25,
   "metadata": {},
   "outputs": [
    {
     "name": "stdout",
     "output_type": "stream",
     "text": [
      "23\n",
      "Prime num\n"
     ]
    }
   ],
   "source": [
    "def prime(n):\n",
    "    if n == 1:\n",
    "        return False\n",
    "    i = 2\n",
    "    while i * i <= n:\n",
    "        if n % i == 0:\n",
    "            return False\n",
    "        i += 1\n",
    "    return True\n",
    "\n",
    "n = int(input())\n",
    "print(n)\n",
    "if prime(n):\n",
    "    print(\"Prime num\")\n",
    "else:\n",
    "    print(\"Not Prime num\")"
   ]
  },
  {
   "cell_type": "markdown",
   "metadata": {},
   "source": [
    "**Efficient approach**"
   ]
  },
  {
   "cell_type": "code",
   "execution_count": null,
   "metadata": {},
   "outputs": [
    {
     "name": "stdout",
     "output_type": "stream",
     "text": [
      "24416\n",
      "not Prime num\n"
     ]
    }
   ],
   "source": [
    "def PRIME(n):\n",
    "    if n == 1:\n",
    "        return False\n",
    "    \n",
    "    if n == 2 or n == 3:\n",
    "        return True\n",
    "    \n",
    "    if n % 2 == 0 or n % 3 == 0:\n",
    "        return False\n",
    "    \n",
    "    i = 5\n",
    "    while i*i <= n:\n",
    "        if n % i == 0 or n % (i+2) == 0:\n",
    "            return False\n",
    "        i += 6\n",
    "    return True\n",
    "\n",
    "n = int(input())\n",
    "print(n)\n",
    "if PRIME(n):\n",
    "    print(\"Prime num\")\n",
    "else:\n",
    "    print(\"not Prime num\")"
   ]
  },
  {
   "cell_type": "markdown",
   "metadata": {},
   "source": [
    "# Print all the prime factors of a given number"
   ]
  },
  {
   "cell_type": "code",
   "execution_count": 37,
   "metadata": {},
   "outputs": [
    {
     "name": "stdout",
     "output_type": "stream",
     "text": [
      "3963960\n",
      "Prime factors are: 2 3 5 7 11 13 "
     ]
    }
   ],
   "source": [
    "def prime_factors(n):\n",
    "    for i in range(2, n // 2):\n",
    "        prime_check = False\n",
    "        if n % i == 0:\n",
    "              prime_check = PRIME(i)\n",
    "              if prime_check:\n",
    "                  print(i, end=\" \")                \n",
    "\n",
    "n = int(input())\n",
    "print(n)\n",
    "print(\"Prime factors are:\", end=\" \")\n",
    "prime_factors(n)"
   ]
  },
  {
   "cell_type": "code",
   "execution_count": 36,
   "metadata": {},
   "outputs": [
    {
     "name": "stdout",
     "output_type": "stream",
     "text": [
      "3963960\n",
      "Prime factors are: 2 2 2 3 3 5 7 11 11 13 "
     ]
    }
   ],
   "source": [
    "n = int(input())\n",
    "print(n)\n",
    "print(\"Prime factors are:\", end=\" \")\n",
    "temp = n\n",
    "i = 2\n",
    "while temp > 1:\n",
    "    while temp % i == 0:\n",
    "        prime_check = PRIME(i)\n",
    "        if prime_check:\n",
    "            print(i, end=\" \")\n",
    "        temp //= i\n",
    "    i += 1"
   ]
  },
  {
   "cell_type": "markdown",
   "metadata": {},
   "source": [
    "# Print all divisors of a number"
   ]
  },
  {
   "cell_type": "code",
   "execution_count": 9,
   "metadata": {},
   "outputs": [
    {
     "name": "stdout",
     "output_type": "stream",
     "text": [
      "25\n",
      "All divisors are:\n",
      "[1, 5, 25]\n"
     ]
    }
   ],
   "source": [
    "n = int(input(\"Enter a number:\"))\n",
    "print(n)\n",
    "print(\"All divisors are:\")\n",
    "divisors = set()\n",
    "for i in range(1, int(n**0.5) + 1):   # take squareroot as no after it the divisors will be repeated and are already taken \n",
    "    if n % i == 0:\n",
    "        divisors.add(i)\n",
    "        if i != n//i:\n",
    "            divisors.add(n // i)\n",
    "lst = list(divisors)\n",
    "lst.sort()\n",
    "print(lst)"
   ]
  },
  {
   "cell_type": "markdown",
   "metadata": {},
   "source": [
    "# Print all prime numbers upto n"
   ]
  },
  {
   "cell_type": "code",
   "execution_count": 1,
   "metadata": {},
   "outputs": [
    {
     "name": "stdout",
     "output_type": "stream",
     "text": [
      "25\n",
      "Prime numbers upto 25 are:\n",
      "2 3 5 7 11 13 17 19 23 "
     ]
    }
   ],
   "source": [
    "def prime_check(n):\n",
    "    if n == 1:\n",
    "        return False\n",
    "    if n == 2 or n == 3:\n",
    "        return True\n",
    "    if n % 2 ==0 or n % 3 == 0:\n",
    "        return False\n",
    "    i = 5\n",
    "    while i * i <= n:\n",
    "        if n % i == 0 or n % (i+2) == 0:\n",
    "            return False\n",
    "        i += 6\n",
    "    return True\n",
    "\n",
    "n = int(input(\"Enter a number:\"))\n",
    "print(n)\n",
    "print(f\"Prime numbers upto {n} are:\")\n",
    "for i in range(2, n + 1):\n",
    "    if prime_check(i):\n",
    "        print(i, end = \" \")"
   ]
  },
  {
   "cell_type": "markdown",
   "metadata": {},
   "source": [
    "Time Complexity - O(n^3/2)\n",
    "<br>This is inefficient for large n (e.g., n = 10⁶ would require O(10⁹) operations)"
   ]
  },
  {
   "cell_type": "markdown",
   "metadata": {},
   "source": [
    "# Sieve of Eratosthenes\n",
    "Given a number n, print all primes smaller than or equal to n. It is also given that n is a small number\n",
    "<br>The Sieve of Eratosthenes is one of the **most efficient ways to find all primes smaller than n when n is smaller than 10 million or so**."
   ]
  },
  {
   "cell_type": "markdown",
   "metadata": {},
   "source": [
    "### Idea of Sieve of Eratosthenes\n",
    "1️⃣ **Create a list** from `2` to `N`, assuming all numbers are prime.  \n",
    "2️⃣ **Start with the first prime (2)** and **remove all its multiples** (4, 6, 8, etc.).  \n",
    "3️⃣ **Move to the next unmarked number (3)** and **remove all its multiples** (9, 12, 15, etc.).  \n",
    "4️⃣ **Repeat the process** for the next primes (5, 7, etc.), skipping numbers already marked as non-prime.  \n",
    "5️⃣ At the end, the remaining unmarked numbers are prime!"
   ]
  },
  {
   "cell_type": "code",
   "execution_count": 1,
   "metadata": {},
   "outputs": [
    {
     "name": "stdout",
     "output_type": "stream",
     "text": [
      "253\n",
      "Prime numbers upto 253 are: 2 3 5 7 11 13 17 19 23 29 31 37 41 43 47 53 59 61 67 71 73 79 83 89 97 101 103 107 109 113 127 131 137 139 149 151 157 163 167 173 179 181 191 193 197 199 211 223 227 229 233 239 241 251 "
     ]
    }
   ],
   "source": [
    "def sieveOfEratosthenes(num):\n",
    "    prime = [True for i in range(n+1)]\n",
    "    prime[0] = prime[1] = False\n",
    "    p = 2\n",
    "    while p * p <= n:\n",
    "        if prime[p] == True:\n",
    "            for i in  range(p*p, num + 1, p):\n",
    "                prime[i] = False\n",
    "        p += 1\n",
    "    for p in range(2, num + 1):\n",
    "        if prime[p]:\n",
    "            print(p, end=\" \")\n",
    "\n",
    "n = int(input())\n",
    "print(n)\n",
    "print(f\"Prime numbers upto {n} are:\", end=\" \")\n",
    "sieveOfEratosthenes(n)"
   ]
  },
  {
   "cell_type": "markdown",
   "metadata": {},
   "source": [
    "**Time Complexity:** O(n*loglogn)"
   ]
  },
  {
   "cell_type": "markdown",
   "metadata": {},
   "source": [
    "# Print and count all numbers upto n with exactly 3 divisors"
   ]
  },
  {
   "cell_type": "markdown",
   "metadata": {},
   "source": [
    "A number has exactly 3 divisors if it's a square of a prime number.\n",
    "- Example: 9 (3²) has exactly 3 divisors → {1, 3, 9}\n",
    "- Example: 25 (5²) has exactly 3 divisors → {1, 5, 25}"
   ]
  },
  {
   "cell_type": "code",
   "execution_count": null,
   "metadata": {},
   "outputs": [],
   "source": []
  },
  {
   "cell_type": "markdown",
   "metadata": {},
   "source": [
    "# COMPUTING POWER"
   ]
  },
  {
   "cell_type": "code",
   "execution_count": 1,
   "metadata": {},
   "outputs": [
    {
     "name": "stdout",
     "output_type": "stream",
     "text": [
      "Enter the number: 4\n",
      "Enter the power: 2\n",
      "16\n"
     ]
    }
   ],
   "source": [
    "x = int(input(\"Enter a number\"))\n",
    "print(f\"Enter the number: {x}\")\n",
    "n = int(input(\"Enter the power\"))\n",
    "print(f\"Enter the power: {n}\")\n",
    "pow = x ** n\n",
    "print(pow)"
   ]
  },
  {
   "cell_type": "markdown",
   "metadata": {},
   "source": [
    "**Below mentioned code shows the way ** operates**"
   ]
  },
  {
   "cell_type": "code",
   "execution_count": 2,
   "metadata": {},
   "outputs": [
    {
     "name": "stdout",
     "output_type": "stream",
     "text": [
      "Enter the number: 2\n",
      "Enter the power: 4\n"
     ]
    },
    {
     "data": {
      "text/plain": [
       "16"
      ]
     },
     "execution_count": 2,
     "metadata": {},
     "output_type": "execute_result"
    }
   ],
   "source": [
    "def power(x, n):\n",
    "    if n == 1:\n",
    "        return x\n",
    "    if n % 2 == 0:\n",
    "        return power(x, n//2) * power(x, n//2)\n",
    "    else:\n",
    "        return power(x, n-1) * x\n",
    "\n",
    "x = int(input(\"Enter a number\"))\n",
    "print(f\"Enter the number: {x}\")\n",
    "n = int(input(\"Enter the power\"))\n",
    "print(f\"Enter the power: {n}\")\n",
    "\n",
    "power(x, n)"
   ]
  },
  {
   "cell_type": "code",
   "execution_count": 2,
   "metadata": {},
   "outputs": [
    {
     "name": "stdout",
     "output_type": "stream",
     "text": [
      "[55, 22, 54, 43, 11]\n"
     ]
    }
   ],
   "source": [
    "lst = [11, 43, 54, 22, 55]\n",
    "rev_arr = []\n",
    "for i in range(len(lst)-1, -1, -1):\n",
    "    rev_arr.append(lst[i])\n",
    "print(rev_arr)"
   ]
  },
  {
   "cell_type": "code",
   "execution_count": 4,
   "metadata": {},
   "outputs": [
    {
     "name": "stdout",
     "output_type": "stream",
     "text": [
      "[11, 43, 54, 22, 55]\n"
     ]
    }
   ],
   "source": [
    "lst.reverse()\n",
    "print(lst)"
   ]
  },
  {
   "cell_type": "code",
   "execution_count": 6,
   "metadata": {},
   "outputs": [
    {
     "name": "stdout",
     "output_type": "stream",
     "text": [
      "[11, 43, 22]\n"
     ]
    }
   ],
   "source": [
    "x = [x for x in lst if x < 50]\n",
    "print(x)"
   ]
  },
  {
   "cell_type": "code",
   "execution_count": null,
   "metadata": {},
   "outputs": [],
   "source": []
  }
 ],
 "metadata": {
  "kernelspec": {
   "display_name": "base",
   "language": "python",
   "name": "python3"
  },
  "language_info": {
   "codemirror_mode": {
    "name": "ipython",
    "version": 3
   },
   "file_extension": ".py",
   "mimetype": "text/x-python",
   "name": "python",
   "nbconvert_exporter": "python",
   "pygments_lexer": "ipython3",
   "version": "3.12.7"
  }
 },
 "nbformat": 4,
 "nbformat_minor": 2
}
